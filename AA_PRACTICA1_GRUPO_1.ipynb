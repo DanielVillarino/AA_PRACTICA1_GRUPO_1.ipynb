{
  "nbformat": 4,
  "nbformat_minor": 0,
  "metadata": {
    "colab": {
      "name": "AA_PRACTICA1_GRUPO_1.ipynb",
      "provenance": [],
      "collapsed_sections": [
        "ghN0nXHImot8",
        "hlhA7U4Bmqd1",
        "0QOnSv7vmsrx",
        "L7pXMNH0mt0T",
        "GSuOvW5vmvIH"
      ],
      "toc_visible": true,
      "include_colab_link": true
    },
    "kernelspec": {
      "display_name": "Python 3",
      "name": "python3"
    },
    "language_info": {
      "name": "python"
    }
  },
  "cells": [
    {
      "cell_type": "markdown",
      "metadata": {
        "id": "view-in-github",
        "colab_type": "text"
      },
      "source": [
        "<a href=\"https://colab.research.google.com/github/DanielVillarino/AA_PRACTICA1_GRUPO_1.ipynb/blob/main/AA_PRACTICA1_GRUPO_1.ipynb\" target=\"_parent\"><img src=\"https://colab.research.google.com/assets/colab-badge.svg\" alt=\"Open In Colab\"/></a>"
      ]
    },
    {
      "cell_type": "markdown",
      "metadata": {
        "id": "HdGjC_-c5l_j"
      },
      "source": [
        "*   Grupo 1\n",
        "*   Daniel Villarino Agueda\n",
        "*   Pablo Martín Heras\n",
        "# <center>**Práctica 1:**\n",
        "# <center>**Diseño, Entrenamiento y Test de un Sistema de Redes de Neuronas Artificiales.**\n"
      ]
    },
    {
      "cell_type": "markdown",
      "metadata": {
        "id": "3VIie7OeOI4o"
      },
      "source": [
        "## **1. Introducción**\n",
        "En esta práctica crearemos un modelo de Red de Neuronas Artificiales que sea capaz de reconocer y clasificar imágenes de ropa según sus diferentes tipologías. Este modelo será definido, configurado, entrenado, evaluado y mejorado para posteriormente usarlo para hacer predicciones. Para ello haremos uso de la función Fashion-MNIST, un conjunto de datos precargado en Keras que contiene las imágenes de los artículos de Zalando, una tienda de moda online alemana especializada en ventas de ropa y zapatos.\n"
      ]
    },
    {
      "cell_type": "markdown",
      "metadata": {
        "id": "DMYfhlV_OO9N"
      },
      "source": [
        "## **2. Desarrollo**\n",
        "Para comenazar, importamos las librerías que vamos a utilizar en el desarrollo de la práctica, y nos aseguramos de que la versión de TensorFlow que se está ejecutando sea igual a 2.0.0 o mayor. "
      ]
    },
    {
      "cell_type": "code",
      "metadata": {
        "id": "6EVCC3e05pwA",
        "colab": {
          "base_uri": "https://localhost:8080/"
        },
        "outputId": "7db6f653-46be-4e9f-af45-bad57c507537"
      },
      "source": [
        "# IMPORTAMOS KERAS\n",
        "%tensorflow_version 2.x\n",
        "import tensorflow as tf\n",
        "from tensorflow import keras\n",
        "# Representamos la versión de keras\n",
        "print(tf.keras.__version__)\n",
        "# Representamos la GPU disponible\n",
        "print(\"GPU Available:\", tf.config.list_physical_devices('GPU'))\n",
        "# Representamos la versión del tensorflow\n",
        "print(tf.__version__)\n",
        "\n",
        "# Importamos librerías que requeriremos mas adelante\n",
        "from keras import models\n",
        "from keras import layers\n",
        "\n",
        "# Librerías de ayuda\n",
        "import numpy as np\n",
        "import matplotlib.pyplot as plt\n"
      ],
      "execution_count": 1,
      "outputs": [
        {
          "output_type": "stream",
          "name": "stdout",
          "text": [
            "2.6.0\n",
            "GPU Available: []\n",
            "2.6.0\n"
          ]
        }
      ]
    },
    {
      "cell_type": "markdown",
      "metadata": {
        "id": "HVbX3Fy55tSc"
      },
      "source": [
        "Como podemos observar la versión de TensorFlow y keras es la 2.6.0, por lo que podemos seguir con el desarrollo de la práctica.\n",
        "\n",
        "Cargamos el conjunto de datos Fashion-MNIST en Keras.\n",
        "\n",
        "\n",
        "*   *`train_images`* y *`train_labels`* son el conjunto de datos que el modelo usa para aprender.\n",
        "*   *`test_images`* y *`test_labels`* son el conjunto de datos con los que probaremos al modelo ya entrenado."
      ]
    },
    {
      "cell_type": "code",
      "metadata": {
        "id": "HxQDYYxM5y9y",
        "colab": {
          "base_uri": "https://localhost:8080/"
        },
        "outputId": "2d0fbda4-be8b-4541-d4f5-2c67b0f29a81"
      },
      "source": [
        "# CARGAMOS EL CONJUNTO DE DATOS FASHION_MINIST EN KERAS\n",
        "fashion_mnist = keras.datasets.fashion_mnist\n",
        "\n",
        "(train_images, train_labels), (test_images, test_labels) = fashion_mnist.load_data()"
      ],
      "execution_count": 2,
      "outputs": [
        {
          "output_type": "stream",
          "name": "stdout",
          "text": [
            "Downloading data from https://storage.googleapis.com/tensorflow/tf-keras-datasets/train-labels-idx1-ubyte.gz\n",
            "32768/29515 [=================================] - 0s 0us/step\n",
            "40960/29515 [=========================================] - 0s 0us/step\n",
            "Downloading data from https://storage.googleapis.com/tensorflow/tf-keras-datasets/train-images-idx3-ubyte.gz\n",
            "26427392/26421880 [==============================] - 0s 0us/step\n",
            "26435584/26421880 [==============================] - 0s 0us/step\n",
            "Downloading data from https://storage.googleapis.com/tensorflow/tf-keras-datasets/t10k-labels-idx1-ubyte.gz\n",
            "16384/5148 [===============================================================================================] - 0s 0us/step\n",
            "Downloading data from https://storage.googleapis.com/tensorflow/tf-keras-datasets/t10k-images-idx3-ubyte.gz\n",
            "4423680/4422102 [==============================] - 0s 0us/step\n",
            "4431872/4422102 [==============================] - 0s 0us/step\n"
          ]
        }
      ]
    },
    {
      "cell_type": "markdown",
      "metadata": {
        "id": "78tEmiTy54YK"
      },
      "source": [
        "Incluimos los nombres de los artículos en un vector de 10 dimensiones, los cuales van asignados cada uno a una imagen del conjunto de datos. "
      ]
    },
    {
      "cell_type": "markdown",
      "metadata": {
        "id": "dROQGfq6IHGk"
      },
      "source": [
        "![image.png](data:image/png;base64,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)"
      ]
    },
    {
      "cell_type": "code",
      "metadata": {
        "id": "JHW1MrqQ6Jdq"
      },
      "source": [
        "class_names = ['Camiseta/top', 'Pantalón', 'Sudadera', 'Vestido', 'Abrigo',\n",
        "               'Sandalia', 'Camisa', 'Zapatilla', 'Mochila', 'Bota alta']"
      ],
      "execution_count": 3,
      "outputs": []
    },
    {
      "cell_type": "markdown",
      "metadata": {
        "id": "DYC07pH66tP3"
      },
      "source": [
        "###**2.1 Análisis de los datos**\n",
        "Comenzamos echando un vistazo a los datos de entrenamiento:"
      ]
    },
    {
      "cell_type": "code",
      "metadata": {
        "colab": {
          "base_uri": "https://localhost:8080/"
        },
        "id": "a7bGBkWI88mE",
        "outputId": "1fee2916-f398-4058-d828-320c3aeec282"
      },
      "source": [
        "print(train_images.shape)"
      ],
      "execution_count": 4,
      "outputs": [
        {
          "output_type": "stream",
          "name": "stdout",
          "text": [
            "(60000, 28, 28)\n"
          ]
        }
      ]
    },
    {
      "cell_type": "markdown",
      "metadata": {
        "id": "S_d_yhIV9Kkn"
      },
      "source": [
        "Podemos observar que contiene 60.000 imágenes de 28x28 píxeles\n"
      ]
    },
    {
      "cell_type": "code",
      "metadata": {
        "colab": {
          "base_uri": "https://localhost:8080/"
        },
        "id": "qx46U0R69lPJ",
        "outputId": "a7338abc-3318-43a0-af15-487ece83bc1e"
      },
      "source": [
        "len(train_labels)"
      ],
      "execution_count": 5,
      "outputs": [
        {
          "output_type": "execute_result",
          "data": {
            "text/plain": [
              "60000"
            ]
          },
          "metadata": {},
          "execution_count": 5
        }
      ]
    },
    {
      "cell_type": "markdown",
      "metadata": {
        "id": "MGuMv7hB9qgq"
      },
      "source": [
        "Cada imagen es un número entero del 0 al 9"
      ]
    },
    {
      "cell_type": "code",
      "metadata": {
        "colab": {
          "base_uri": "https://localhost:8080/"
        },
        "id": "7WkR5Hzs-CAE",
        "outputId": "f24458ce-5c86-4923-ce3a-93b99f008482"
      },
      "source": [
        "train_labels"
      ],
      "execution_count": 6,
      "outputs": [
        {
          "output_type": "execute_result",
          "data": {
            "text/plain": [
              "array([9, 0, 0, ..., 3, 0, 5], dtype=uint8)"
            ]
          },
          "metadata": {},
          "execution_count": 6
        }
      ]
    },
    {
      "cell_type": "markdown",
      "metadata": {
        "id": "wrSsRq1HCYKx"
      },
      "source": [
        "A continuación veremos la imagen de las botas altas, por lo que excogeremos la posición 0 siguiendo el array mostrado anteriormente"
      ]
    },
    {
      "cell_type": "code",
      "metadata": {
        "colab": {
          "base_uri": "https://localhost:8080/"
        },
        "id": "fMbjvDK8FjHY",
        "outputId": "4821311a-ff05-4edf-ea2a-cd8735b6407e"
      },
      "source": [
        "# Como ya sabemos, las botas altas corresponden con el número 9.\n",
        "train_labels[0]"
      ],
      "execution_count": 7,
      "outputs": [
        {
          "output_type": "execute_result",
          "data": {
            "text/plain": [
              "9"
            ]
          },
          "metadata": {},
          "execution_count": 7
        }
      ]
    },
    {
      "cell_type": "markdown",
      "metadata": {
        "id": "NJ9RLJ03FubI"
      },
      "source": [
        "Dibujamos su matriz "
      ]
    },
    {
      "cell_type": "code",
      "metadata": {
        "colab": {
          "base_uri": "https://localhost:8080/"
        },
        "id": "LXwTCXlPCYhR",
        "outputId": "6fb97e7a-5f23-490f-8872-e9d9e5435e77"
      },
      "source": [
        "train_images[0]"
      ],
      "execution_count": 8,
      "outputs": [
        {
          "output_type": "execute_result",
          "data": {
            "text/plain": [
              "array([[  0,   0,   0,   0,   0,   0,   0,   0,   0,   0,   0,   0,   0,\n",
              "          0,   0,   0,   0,   0,   0,   0,   0,   0,   0,   0,   0,   0,\n",
              "          0,   0],\n",
              "       [  0,   0,   0,   0,   0,   0,   0,   0,   0,   0,   0,   0,   0,\n",
              "          0,   0,   0,   0,   0,   0,   0,   0,   0,   0,   0,   0,   0,\n",
              "          0,   0],\n",
              "       [  0,   0,   0,   0,   0,   0,   0,   0,   0,   0,   0,   0,   0,\n",
              "          0,   0,   0,   0,   0,   0,   0,   0,   0,   0,   0,   0,   0,\n",
              "          0,   0],\n",
              "       [  0,   0,   0,   0,   0,   0,   0,   0,   0,   0,   0,   0,   1,\n",
              "          0,   0,  13,  73,   0,   0,   1,   4,   0,   0,   0,   0,   1,\n",
              "          1,   0],\n",
              "       [  0,   0,   0,   0,   0,   0,   0,   0,   0,   0,   0,   0,   3,\n",
              "          0,  36, 136, 127,  62,  54,   0,   0,   0,   1,   3,   4,   0,\n",
              "          0,   3],\n",
              "       [  0,   0,   0,   0,   0,   0,   0,   0,   0,   0,   0,   0,   6,\n",
              "          0, 102, 204, 176, 134, 144, 123,  23,   0,   0,   0,   0,  12,\n",
              "         10,   0],\n",
              "       [  0,   0,   0,   0,   0,   0,   0,   0,   0,   0,   0,   0,   0,\n",
              "          0, 155, 236, 207, 178, 107, 156, 161, 109,  64,  23,  77, 130,\n",
              "         72,  15],\n",
              "       [  0,   0,   0,   0,   0,   0,   0,   0,   0,   0,   0,   1,   0,\n",
              "         69, 207, 223, 218, 216, 216, 163, 127, 121, 122, 146, 141,  88,\n",
              "        172,  66],\n",
              "       [  0,   0,   0,   0,   0,   0,   0,   0,   0,   1,   1,   1,   0,\n",
              "        200, 232, 232, 233, 229, 223, 223, 215, 213, 164, 127, 123, 196,\n",
              "        229,   0],\n",
              "       [  0,   0,   0,   0,   0,   0,   0,   0,   0,   0,   0,   0,   0,\n",
              "        183, 225, 216, 223, 228, 235, 227, 224, 222, 224, 221, 223, 245,\n",
              "        173,   0],\n",
              "       [  0,   0,   0,   0,   0,   0,   0,   0,   0,   0,   0,   0,   0,\n",
              "        193, 228, 218, 213, 198, 180, 212, 210, 211, 213, 223, 220, 243,\n",
              "        202,   0],\n",
              "       [  0,   0,   0,   0,   0,   0,   0,   0,   0,   1,   3,   0,  12,\n",
              "        219, 220, 212, 218, 192, 169, 227, 208, 218, 224, 212, 226, 197,\n",
              "        209,  52],\n",
              "       [  0,   0,   0,   0,   0,   0,   0,   0,   0,   0,   6,   0,  99,\n",
              "        244, 222, 220, 218, 203, 198, 221, 215, 213, 222, 220, 245, 119,\n",
              "        167,  56],\n",
              "       [  0,   0,   0,   0,   0,   0,   0,   0,   0,   4,   0,   0,  55,\n",
              "        236, 228, 230, 228, 240, 232, 213, 218, 223, 234, 217, 217, 209,\n",
              "         92,   0],\n",
              "       [  0,   0,   1,   4,   6,   7,   2,   0,   0,   0,   0,   0, 237,\n",
              "        226, 217, 223, 222, 219, 222, 221, 216, 223, 229, 215, 218, 255,\n",
              "         77,   0],\n",
              "       [  0,   3,   0,   0,   0,   0,   0,   0,   0,  62, 145, 204, 228,\n",
              "        207, 213, 221, 218, 208, 211, 218, 224, 223, 219, 215, 224, 244,\n",
              "        159,   0],\n",
              "       [  0,   0,   0,   0,  18,  44,  82, 107, 189, 228, 220, 222, 217,\n",
              "        226, 200, 205, 211, 230, 224, 234, 176, 188, 250, 248, 233, 238,\n",
              "        215,   0],\n",
              "       [  0,  57, 187, 208, 224, 221, 224, 208, 204, 214, 208, 209, 200,\n",
              "        159, 245, 193, 206, 223, 255, 255, 221, 234, 221, 211, 220, 232,\n",
              "        246,   0],\n",
              "       [  3, 202, 228, 224, 221, 211, 211, 214, 205, 205, 205, 220, 240,\n",
              "         80, 150, 255, 229, 221, 188, 154, 191, 210, 204, 209, 222, 228,\n",
              "        225,   0],\n",
              "       [ 98, 233, 198, 210, 222, 229, 229, 234, 249, 220, 194, 215, 217,\n",
              "        241,  65,  73, 106, 117, 168, 219, 221, 215, 217, 223, 223, 224,\n",
              "        229,  29],\n",
              "       [ 75, 204, 212, 204, 193, 205, 211, 225, 216, 185, 197, 206, 198,\n",
              "        213, 240, 195, 227, 245, 239, 223, 218, 212, 209, 222, 220, 221,\n",
              "        230,  67],\n",
              "       [ 48, 203, 183, 194, 213, 197, 185, 190, 194, 192, 202, 214, 219,\n",
              "        221, 220, 236, 225, 216, 199, 206, 186, 181, 177, 172, 181, 205,\n",
              "        206, 115],\n",
              "       [  0, 122, 219, 193, 179, 171, 183, 196, 204, 210, 213, 207, 211,\n",
              "        210, 200, 196, 194, 191, 195, 191, 198, 192, 176, 156, 167, 177,\n",
              "        210,  92],\n",
              "       [  0,   0,  74, 189, 212, 191, 175, 172, 175, 181, 185, 188, 189,\n",
              "        188, 193, 198, 204, 209, 210, 210, 211, 188, 188, 194, 192, 216,\n",
              "        170,   0],\n",
              "       [  2,   0,   0,   0,  66, 200, 222, 237, 239, 242, 246, 243, 244,\n",
              "        221, 220, 193, 191, 179, 182, 182, 181, 176, 166, 168,  99,  58,\n",
              "          0,   0],\n",
              "       [  0,   0,   0,   0,   0,   0,   0,  40,  61,  44,  72,  41,  35,\n",
              "          0,   0,   0,   0,   0,   0,   0,   0,   0,   0,   0,   0,   0,\n",
              "          0,   0],\n",
              "       [  0,   0,   0,   0,   0,   0,   0,   0,   0,   0,   0,   0,   0,\n",
              "          0,   0,   0,   0,   0,   0,   0,   0,   0,   0,   0,   0,   0,\n",
              "          0,   0],\n",
              "       [  0,   0,   0,   0,   0,   0,   0,   0,   0,   0,   0,   0,   0,\n",
              "          0,   0,   0,   0,   0,   0,   0,   0,   0,   0,   0,   0,   0,\n",
              "          0,   0]], dtype=uint8)"
            ]
          },
          "metadata": {},
          "execution_count": 8
        }
      ]
    },
    {
      "cell_type": "code",
      "metadata": {
        "colab": {
          "base_uri": "https://localhost:8080/",
          "height": 265
        },
        "id": "2Wx9H2BkFRgy",
        "outputId": "0ac668d6-3c55-4774-c1e6-5f930b724225"
      },
      "source": [
        "# Veamos el elemento 0 y pintémoslo con matplotlib\n",
        "import matplotlib.pyplot as plt\n",
        "digit = train_images[0]\n",
        "plt.imshow(digit, cmap=plt.cm.binary)\n",
        "plt.show()"
      ],
      "execution_count": 9,
      "outputs": [
        {
          "output_type": "display_data",
          "data": {
            "image/png": "[encoded data removed]",
            "text/plain": [
              "<Figure size 432x288 with 1 Axes>"
            ]
          },
          "metadata": {
            "needs_background": "light"
          }
        }
      ]
    },
    {
      "cell_type": "markdown",
      "metadata": {
        "id": "lcVf66D6Jb4b"
      },
      "source": [
        "Comprobamos los datos de prueba:\n"
      ]
    },
    {
      "cell_type": "code",
      "metadata": {
        "colab": {
          "base_uri": "https://localhost:8080/"
        },
        "id": "c9P7o-RNJiIX",
        "outputId": "e6669956-280f-4b30-82e4-685af2e012b1"
      },
      "source": [
        "test_images.shape"
      ],
      "execution_count": 10,
      "outputs": [
        {
          "output_type": "execute_result",
          "data": {
            "text/plain": [
              "(10000, 28, 28)"
            ]
          },
          "metadata": {},
          "execution_count": 10
        }
      ]
    },
    {
      "cell_type": "markdown",
      "metadata": {
        "id": "aeBK1iIEKu-K"
      },
      "source": [
        "En este caso tenemos un conjunto de 10.000 imágenes de 28x28 píxeles"
      ]
    },
    {
      "cell_type": "code",
      "metadata": {
        "colab": {
          "base_uri": "https://localhost:8080/"
        },
        "id": "O5HBp-7jK1Cw",
        "outputId": "200c3499-9f38-4c36-c90f-07a436b9033e"
      },
      "source": [
        "len(test_labels)"
      ],
      "execution_count": 11,
      "outputs": [
        {
          "output_type": "execute_result",
          "data": {
            "text/plain": [
              "10000"
            ]
          },
          "metadata": {},
          "execution_count": 11
        }
      ]
    },
    {
      "cell_type": "code",
      "metadata": {
        "colab": {
          "base_uri": "https://localhost:8080/"
        },
        "id": "N6mU80wGK4Js",
        "outputId": "19fafced-698b-4a3f-9224-d3ce279081fd"
      },
      "source": [
        "test_labels.shape, test_labels"
      ],
      "execution_count": 12,
      "outputs": [
        {
          "output_type": "execute_result",
          "data": {
            "text/plain": [
              "((10000,), array([9, 2, 1, ..., 8, 1, 5], dtype=uint8))"
            ]
          },
          "metadata": {},
          "execution_count": 12
        }
      ]
    },
    {
      "cell_type": "markdown",
      "metadata": {
        "id": "RgZDq3UEPCFr"
      },
      "source": [
        "###**2.2 Pre procesado de los datos**\n",
        "Antes del entrenamiento, **preprocesaremos nuestros datos** dándoles la forma que espera la red y escalando para que todos los valores estén en el intervalo `[0, 1]`. Si inspeccionamos la primera imagen en el set de entrenamiento, encontramos que los valores de los pixeles estan entre 0 y 255:"
      ]
    },
    {
      "cell_type": "code",
      "metadata": {
        "colab": {
          "base_uri": "https://localhost:8080/",
          "height": 265
        },
        "id": "-qyETX6zbDze",
        "outputId": "85a7e534-8b83-40ad-b015-e2300982a27d"
      },
      "source": [
        "plt.figure()\n",
        "plt.imshow(train_images[0])\n",
        "plt.colorbar()\n",
        "plt.grid(False)\n",
        "plt.show()"
      ],
      "execution_count": 13,
      "outputs": [
        {
          "output_type": "display_data",
          "data": {
            "image/png": "[encoded data removed]",
            "text/plain": [
              "<Figure size 432x288 with 2 Axes>"
            ]
          },
          "metadata": {
            "needs_background": "light"
          }
        }
      ]
    },
    {
      "cell_type": "markdown",
      "metadata": {
        "id": "fReuhZO2bRq4"
      },
      "source": [
        "Antes de alimentar al modelo de la red neuronal, lo transformaremos en una matriz de forma `float32` con forma `(60000, 28 * 28)` con valores entre 0 y 1."
      ]
    },
    {
      "cell_type": "code",
      "metadata": {
        "id": "5Zwqqba9a2q5"
      },
      "source": [
        "train_images = train_images / 255.0\n",
        "\n",
        "test_images = test_images / 255.0"
      ],
      "execution_count": 14,
      "outputs": []
    },
    {
      "cell_type": "markdown",
      "metadata": {
        "id": "JFNtkSzcfGUk"
      },
      "source": [
        "###**2.3 Construcción de la RNA**."
      ]
    },
    {
      "cell_type": "markdown",
      "metadata": {
        "id": "oAOHlqlWZ6Br"
      },
      "source": [
        "####**Caso 1**"
      ]
    },
    {
      "cell_type": "markdown",
      "metadata": {
        "id": "_hGFbbN-ajAi"
      },
      "source": [
        "**Construir el modelo**\n",
        " \n",
        "Lo primero de todo que vamos a llevar a cabo es construir la red neuronal que nos\n",
        "permitirá configurar las capas del modelo y obtener los resultados organizados en la\n",
        "web de Zalando."
      ]
    },
    {
      "cell_type": "markdown",
      "metadata": {
        "id": "n7LcXY7weD72"
      },
      "source": [
        "**Configurar las capas**\n",
        "\n",
        "En este paso, procedemos a crear los bloques de construcción básicos de una red\n",
        "neuronal, como las capas o layers. El principal objetivo será unir capas sencillas con\n",
        "unos parámetros ya establecidos (10).\n",
        "La primera capa que encontramos es la capa Flatten, que nos permite transformar el\n",
        "formato de las imágenes de un arreglo bi-dimensional (28x28) a unidimensional (784\n",
        "pixeles). Esta capa no tiene unos parámetros establecidos previamente, únicamente\n",
        "reformatea el set de datos.\n",
        "Lo siguiente que encontramos dos capas Dense, completamente conectadas, que nos\n",
        "permiten tener los píxeles de las imágenes “concentrados”. La primera de las 2 capas\n",
        "contiene 128 nodos y la segunda 10 nodos de tipo softmax que nos devuelve un\n",
        "arreglo de 10 probabilidades que suman, en total, 1."
      ]
    },
    {
      "cell_type": "code",
      "metadata": {
        "id": "xgWTndaJhIIa"
      },
      "source": [
        "# Añadimos una primera capa .Flatten que convierte el arreglo en un arreglo unidimensional,\n",
        "# ademas de dos capas .Dense densamente conectadas que contienen sus nodos correspondientes.\n",
        "model1 = keras.Sequential([\n",
        "    keras.layers.Flatten(input_shape=(28, 28)),\n",
        "    keras.layers.Dense(10, activation='relu'),\n",
        "    keras.layers.Dense(10, activation='softmax')\n",
        "])\n"
      ],
      "execution_count": 15,
      "outputs": []
    },
    {
      "cell_type": "markdown",
      "metadata": {
        "id": "y9d3n3MreIhZ"
      },
      "source": [
        "**Compilar el modelo**\n",
        "\n",
        "Antes de conseguir ejecutar y compilar el modelo, es necesario agregar las\n",
        "configuraciones que aparecen en este sector del código:\n",
        "- Loss function: su objetivo es medir la exactitud del modelo y orientar en la\n",
        "dirección adecuada al modelo.\n",
        "- Optimizer: el optimizador del modelo, que se irá actualizando a medida que\n",
        "cambiemos el set de datos.\n",
        "- Metrics: monitorea los pasos de entrenamiento del modelo."
      ]
    },
    {
      "cell_type": "code",
      "metadata": {
        "id": "JprJlpu6iJI7"
      },
      "source": [
        "# Añadimos la función de pérdida y el optimizador\n",
        "model1.compile(optimizer='sgd',\n",
        "              loss='sparse_categorical_crossentropy',\n",
        "              metrics=['accuracy'])"
      ],
      "execution_count": 16,
      "outputs": []
    },
    {
      "cell_type": "markdown",
      "metadata": {
        "id": "VvDdg5CvePZq"
      },
      "source": [
        "**Entrenar el modelo**\n",
        "\n",
        "El entrenamiento será el paso del proceso que nos ayudará a orientarnos y entender\n",
        "si realmente lo que estamos llevando a cabo tiene buena pinta. Mediante el\n",
        "entrenamiento el modelo aprende a asociar imágenes y etiquetas gracias a los arreglos\n",
        "train_images y train_labels. Para comenzar el entrenamiento, utilizamos el método\n",
        "model.fit, que nos ayuda a ajustar el modelo a el set de datos de entrenamiento."
      ]
    },
    {
      "cell_type": "code",
      "metadata": {
        "colab": {
          "base_uri": "https://localhost:8080/"
        },
        "id": "ZdqEPtffjkED",
        "outputId": "c53a32ae-bbb7-4932-f8b4-b62376bf2b7e"
      },
      "source": [
        "# Comenzamos con el entrenamiento del modelo\n",
        "model1.fit(train_images, train_labels, epochs=5, batch_size=128)\n",
        "# Vemos que nuestro modelo tiene una función de pérdida muy elevada (0.5981) y una \n",
        "# precisión no muy alta(0.7963), por lo que no es muy modelo muy fiable."
      ],
      "execution_count": 17,
      "outputs": [
        {
          "output_type": "stream",
          "name": "stdout",
          "text": [
            "Epoch 1/5\n",
            "469/469 [==============================] - 2s 2ms/step - loss: 1.5500 - accuracy: 0.5357\n",
            "Epoch 2/5\n",
            "469/469 [==============================] - 1s 2ms/step - loss: 0.8830 - accuracy: 0.7307\n",
            "Epoch 3/5\n",
            "469/469 [==============================] - 1s 2ms/step - loss: 0.7084 - accuracy: 0.7631\n",
            "Epoch 4/5\n",
            "469/469 [==============================] - 1s 2ms/step - loss: 0.6391 - accuracy: 0.7821\n",
            "Epoch 5/5\n",
            "469/469 [==============================] - 1s 2ms/step - loss: 0.5981 - accuracy: 0.7963\n"
          ]
        },
        {
          "output_type": "execute_result",
          "data": {
            "text/plain": [
              "<keras.callbacks.History at 0x7fcf402cbf90>"
            ]
          },
          "metadata": {},
          "execution_count": 17
        }
      ]
    },
    {
      "cell_type": "markdown",
      "metadata": {
        "id": "kMXHawSdeZsk"
      },
      "source": [
        "**Evaluar la exactitud**\n",
        "\n",
        "Las funciones test_loss y test_acc nos ayudarán a certificar la exactitud del \n",
        "modelo, con lo que podremos diferenciar si se ha producido un sobre entrenamiento. El sobre entrenamiento se produce cuando un modelo de aprendizaje de maquina tiene un rendimiento peor sobre un set de datos nuevo que nunca antes ha visto comparado con el de entrenamiento."
      ]
    },
    {
      "cell_type": "code",
      "metadata": {
        "colab": {
          "base_uri": "https://localhost:8080/"
        },
        "id": "V3t4PRDxmaER",
        "outputId": "33fe91c2-41cf-4a07-91ff-a37d3578193f"
      },
      "source": [
        "# Comparamos el rendimiento del modelo con el conjunto de imágenes\n",
        "test_loss, test_acc = model1.evaluate(test_images,  test_labels, verbose=2)\n",
        "# Vemos que la pérdida y la precisión de las imágenes de prueba son muy semejantes \n",
        "# a las conseguidas durante el entrenamiento, por lo que en este caso no se produce \n",
        "#un sobre entrenamiento."
      ],
      "execution_count": 18,
      "outputs": [
        {
          "output_type": "stream",
          "name": "stdout",
          "text": [
            "313/313 - 0s - loss: 0.6099 - accuracy: 0.7851\n"
          ]
        }
      ]
    },
    {
      "cell_type": "code",
      "metadata": {
        "colab": {
          "base_uri": "https://localhost:8080/"
        },
        "id": "PPzdeB0JYdd4",
        "outputId": "938a3d76-f7ca-46fc-a3fc-4c415c022c15"
      },
      "source": [
        "# Precisión del test\n",
        "print('\\nTest accuracy:', test_acc)"
      ],
      "execution_count": 19,
      "outputs": [
        {
          "output_type": "stream",
          "name": "stdout",
          "text": [
            "\n",
            "Test accuracy: 0.785099983215332\n"
          ]
        }
      ]
    },
    {
      "cell_type": "markdown",
      "metadata": {
        "id": "spQYi5egnEpz"
      },
      "source": [
        "**Predicciones**\n",
        "\n",
        "Tras haber realizado el entrenamiento del modelo, procedemos a realizar predicciones\n",
        "sobre las imágenes presentes en el modelo. Una prediccion es un arreglo de 10 numeros.\n",
        "Estos representan el nivel de &quot;confianza&quot; del modelo sobre las imagenes de cada uno de los 10\n",
        "articulos de moda/ropa."
      ]
    },
    {
      "cell_type": "code",
      "metadata": {
        "colab": {
          "base_uri": "https://localhost:8080/"
        },
        "id": "I-wJWB_InHs-",
        "outputId": "6404053f-3421-43c1-cdf9-eee4240e97b4"
      },
      "source": [
        "predictions = model1.predict(test_images)\n",
        "predictions[5]"
      ],
      "execution_count": 20,
      "outputs": [
        {
          "output_type": "execute_result",
          "data": {
            "text/plain": [
              "array([7.19068339e-04, 9.78089154e-01, 4.04726947e-04, 4.94523812e-03,\n",
              "       1.07070133e-02, 3.18034523e-07, 5.13097458e-03, 1.33331115e-08,\n",
              "       3.47364039e-06, 5.53557804e-08], dtype=float32)"
            ]
          },
          "metadata": {},
          "execution_count": 20
        }
      ]
    },
    {
      "cell_type": "code",
      "metadata": {
        "id": "ZJtkUM0YneBw"
      },
      "source": [
        "def plot_image(i, predictions_array, true_label, img):\n",
        "  predictions_array, true_label, img = predictions_array, true_label[i], img[i]\n",
        "  plt.grid(False)\n",
        "  plt.xticks([])\n",
        "  plt.yticks([])\n",
        "\n",
        "  plt.imshow(img, cmap=plt.cm.binary)\n",
        "\n",
        "  predicted_label = np.argmax(predictions_array)\n",
        "  if predicted_label == true_label:\n",
        "    color = 'blue'\n",
        "  else:\n",
        "    color = 'red'\n",
        "\n",
        "  plt.xlabel(\"{} {:2.0f}% ({})\".format(class_names[predicted_label],\n",
        "                                100*np.max(predictions_array),\n",
        "                                class_names[true_label]),\n",
        "                                color=color)\n",
        "\n",
        "def plot_value_array(i, predictions_array, true_label):\n",
        "  predictions_array, true_label = predictions_array, true_label[i]\n",
        "  plt.grid(False)\n",
        "  plt.xticks(range(10))\n",
        "  plt.yticks([])\n",
        "  thisplot = plt.bar(range(10), predictions_array, color=\"#777777\")\n",
        "  plt.ylim([0, 1])\n",
        "  predicted_label = np.argmax(predictions_array)\n",
        "\n",
        "  thisplot[predicted_label].set_color('red')\n",
        "  thisplot[true_label].set_color('blue')"
      ],
      "execution_count": 21,
      "outputs": []
    },
    {
      "cell_type": "markdown",
      "metadata": {
        "id": "rL7KtsX4n9L7"
      },
      "source": [
        "Dibujamos la predicción de la 6º figura. \n",
        "\n",
        "Podemos observar la probabilidad de que sea dicha imagen y un gráfica que nos devuelve la probabilidad que tiene cada imagen de ser la figara 6."
      ]
    },
    {
      "cell_type": "code",
      "metadata": {
        "colab": {
          "base_uri": "https://localhost:8080/",
          "height": 211
        },
        "id": "0tD1WVZiOu9Y",
        "outputId": "563bb9a0-f510-43f4-f1ac-0b0db8aafe9e"
      },
      "source": [
        "i = 5\n",
        "plt.figure(figsize=(6,3))\n",
        "plt.subplot(1,2,1)\n",
        "plot_image(i, predictions[i], test_labels, test_images)\n",
        "plt.subplot(1,2,2)\n",
        "plot_value_array(i, predictions[i],  test_labels)\n",
        "plt.show()"
      ],
      "execution_count": 22,
      "outputs": [
        {
          "output_type": "display_data",
          "data": {
            "image/png": "[encoded data removed]",
            "text/plain": [
              "<Figure size 432x216 with 2 Axes>"
            ]
          },
          "metadata": {
            "needs_background": "light"
          }
        }
      ]
    },
    {
      "cell_type": "markdown",
      "metadata": {
        "id": "TeONJzOMO0f-"
      },
      "source": [
        "Ahora dibujaremos la predicción de 10 imágenes. \n",
        "\n",
        "Al igual que en el caso anterior, nos devuelve la imagen, la probabilidad de de que sea dicha imagen y la probabilidad que tienen las demas imágenes de ser la figura 6."
      ]
    },
    {
      "cell_type": "code",
      "metadata": {
        "colab": {
          "base_uri": "https://localhost:8080/",
          "height": 729
        },
        "id": "SpiSytQknf4f",
        "outputId": "0e6af16f-4047-4d68-b775-154c2976de13"
      },
      "source": [
        "num_rows = 5\n",
        "num_cols = 2\n",
        "num_images = num_rows*num_cols\n",
        "plt.figure(figsize=(2*2*num_cols, 2*num_rows))\n",
        "for i in range(num_images):\n",
        "  plt.subplot(num_rows, 2*num_cols, 2*i+1)\n",
        "  plot_image(i, predictions[i], test_labels, test_images)\n",
        "  plt.subplot(num_rows, 2*num_cols, 2*i+2)\n",
        "  plot_value_array(i, predictions[i], test_labels)\n",
        "plt.tight_layout()\n",
        "plt.show()"
      ],
      "execution_count": 23,
      "outputs": [
        {
          "output_type": "display_data",
          "data": {
            "image/png": "[encoded data removed]",
            "text/plain": [
              "<Figure size 576x720 with 20 Axes>"
            ]
          },
          "metadata": {
            "needs_background": "light"
          }
        }
      ]
    },
    {
      "cell_type": "markdown",
      "metadata": {
        "id": "2-50psIemjyz"
      },
      "source": [
        "####**Caso 2**"
      ]
    },
    {
      "cell_type": "code",
      "metadata": {
        "id": "f8eBl7m9c4IH"
      },
      "source": [
        "# Añadimos una primera capa .Flatten que convierte el arreglo en un arreglo unidimensional,\n",
        "# ademas de dos capas .Dense densamente conectadas que contienen sus nodos correspondientes.\n",
        "model2 = keras.Sequential([\n",
        "    keras.layers.Flatten(input_shape=(28, 28)),\n",
        "    keras.layers.Dense(10, activation='relu'),\n",
        "    keras.layers.Dense(10, activation='softmax')\n",
        "])"
      ],
      "execution_count": 24,
      "outputs": []
    },
    {
      "cell_type": "code",
      "metadata": {
        "id": "Zes5sKWec5Ri"
      },
      "source": [
        "# Añadimos la función de pérdida y el optimizador\n",
        "model2.compile(optimizer='rmsprop',\n",
        "              loss='sparse_categorical_crossentropy',\n",
        "              metrics=['accuracy'])"
      ],
      "execution_count": 25,
      "outputs": []
    },
    {
      "cell_type": "code",
      "metadata": {
        "colab": {
          "base_uri": "https://localhost:8080/"
        },
        "id": "MVm3GfD5c8u3",
        "outputId": "a097218e-b200-4c15-9881-c5480c23c9e4"
      },
      "source": [
        "# Comenzamos con el entrenamiento del modelo\n",
        "model2.fit(train_images, train_labels, epochs=5, batch_size=128)\n",
        "# Vemos que nuestro modelo tiene una función de pérdida alta (0.4235) y una precisión\n",
        "# adecuada (0.8531). Si lo comparamos con el modelo anterior, vemos que nuestro \n",
        "# modelo de entrenamiento ha mejorado notablemente."
      ],
      "execution_count": 26,
      "outputs": [
        {
          "output_type": "stream",
          "name": "stdout",
          "text": [
            "Epoch 1/5\n",
            "469/469 [==============================] - 1s 2ms/step - loss: 0.9950 - accuracy: 0.6654\n",
            "Epoch 2/5\n",
            "469/469 [==============================] - 1s 2ms/step - loss: 0.5190 - accuracy: 0.8257\n",
            "Epoch 3/5\n",
            "469/469 [==============================] - 1s 2ms/step - loss: 0.4629 - accuracy: 0.8420\n",
            "Epoch 4/5\n",
            "469/469 [==============================] - 1s 2ms/step - loss: 0.4375 - accuracy: 0.8496\n",
            "Epoch 5/5\n",
            "469/469 [==============================] - 1s 2ms/step - loss: 0.4235 - accuracy: 0.8531\n"
          ]
        },
        {
          "output_type": "execute_result",
          "data": {
            "text/plain": [
              "<keras.callbacks.History at 0x7fcf3fc3bdd0>"
            ]
          },
          "metadata": {},
          "execution_count": 26
        }
      ]
    },
    {
      "cell_type": "code",
      "metadata": {
        "colab": {
          "base_uri": "https://localhost:8080/"
        },
        "id": "zWZncE9HdFnj",
        "outputId": "34ac1e6c-46fc-4b10-a055-a64b9afdfd46"
      },
      "source": [
        "# Comparamos el rendimiento del modelo con el conjunto de imágenes\n",
        "test_loss, test_acc = model2.evaluate(test_images,  test_labels, verbose=2)\n",
        "# Si lo comparamos con el modelo de entrenamiento, vemos que la función de pérdida\n",
        "# es más alta y la precisión más baja, pero son valores muy semejantes, por lo\n",
        "# que no se podría decir que se ha producido sobre entrenamiento."
      ],
      "execution_count": 27,
      "outputs": [
        {
          "output_type": "stream",
          "name": "stdout",
          "text": [
            "313/313 - 0s - loss: 0.4655 - accuracy: 0.8405\n"
          ]
        }
      ]
    },
    {
      "cell_type": "code",
      "metadata": {
        "colab": {
          "base_uri": "https://localhost:8080/"
        },
        "id": "cvkjObShdGXQ",
        "outputId": "7f67a580-3c25-4109-ac96-1af20a26f9f9"
      },
      "source": [
        "# Precisión del test\n",
        "print('\\nTest accuracy:', test_acc)"
      ],
      "execution_count": 28,
      "outputs": [
        {
          "output_type": "stream",
          "name": "stdout",
          "text": [
            "\n",
            "Test accuracy: 0.840499997138977\n"
          ]
        }
      ]
    },
    {
      "cell_type": "markdown",
      "metadata": {
        "id": "CtoO6zofdMl9"
      },
      "source": [
        "Realizamos la predicción"
      ]
    },
    {
      "cell_type": "code",
      "metadata": {
        "colab": {
          "base_uri": "https://localhost:8080/"
        },
        "id": "xjISEt2DdOk4",
        "outputId": "1584e475-0f34-4e27-b57e-306e52150562"
      },
      "source": [
        "predictions = model2.predict(test_images)\n",
        "predictions[5]"
      ],
      "execution_count": 29,
      "outputs": [
        {
          "output_type": "execute_result",
          "data": {
            "text/plain": [
              "array([2.1717993e-03, 9.9610990e-01, 5.8222715e-05, 1.0893837e-03,\n",
              "       5.3476874e-04, 1.2848230e-11, 3.5940306e-05, 7.4119584e-15,\n",
              "       2.7416840e-08, 5.6290823e-11], dtype=float32)"
            ]
          },
          "metadata": {},
          "execution_count": 29
        }
      ]
    },
    {
      "cell_type": "markdown",
      "metadata": {
        "id": "nn6RGSjpoAO4"
      },
      "source": [
        "Dibujamos la predicción de la 6º figura"
      ]
    },
    {
      "cell_type": "code",
      "metadata": {
        "id": "FBwFaR7RPbSn",
        "colab": {
          "base_uri": "https://localhost:8080/",
          "height": 211
        },
        "outputId": "da75cb4f-2b5a-47ac-8184-d020552acaa3"
      },
      "source": [
        "i = 5\n",
        "plt.figure(figsize=(6,3))\n",
        "plt.subplot(1,2,1)\n",
        "plot_image(i, predictions[i], test_labels, test_images)\n",
        "plt.subplot(1,2,2)\n",
        "plot_value_array(i, predictions[i],  test_labels)\n",
        "plt.show()"
      ],
      "execution_count": 30,
      "outputs": [
        {
          "output_type": "display_data",
          "data": {
            "image/png": "[encoded data removed]",
            "text/plain": [
              "<Figure size 432x216 with 2 Axes>"
            ]
          },
          "metadata": {
            "needs_background": "light"
          }
        }
      ]
    },
    {
      "cell_type": "markdown",
      "metadata": {
        "id": "gblnBhvGPdh9"
      },
      "source": [
        "Ahora dibujaremos la predicción de 10 imágenes"
      ]
    },
    {
      "cell_type": "code",
      "metadata": {
        "colab": {
          "base_uri": "https://localhost:8080/",
          "height": 729
        },
        "id": "8konOVuvdSnO",
        "outputId": "7203b93d-9431-43dc-fa08-f96cc8e0c9fe"
      },
      "source": [
        "num_rows = 5\n",
        "num_cols = 2\n",
        "num_images = num_rows*num_cols\n",
        "plt.figure(figsize=(2*2*num_cols, 2*num_rows))\n",
        "for i in range(num_images):\n",
        "  plt.subplot(num_rows, 2*num_cols, 2*i+1)\n",
        "  plot_image(i, predictions[i], test_labels, test_images)\n",
        "  plt.subplot(num_rows, 2*num_cols, 2*i+2)\n",
        "  plot_value_array(i, predictions[i], test_labels)\n",
        "plt.tight_layout()\n",
        "plt.show()"
      ],
      "execution_count": 31,
      "outputs": [
        {
          "output_type": "display_data",
          "data": {
            "image/png": "[encoded data removed]",
            "text/plain": [
              "<Figure size 576x720 with 20 Axes>"
            ]
          },
          "metadata": {
            "needs_background": "light"
          }
        }
      ]
    },
    {
      "cell_type": "markdown",
      "metadata": {
        "id": "J002JOtMwb0c"
      },
      "source": [
        "**Análisis con 25 épocas de entrenamiento**\n",
        "\n"
      ]
    },
    {
      "cell_type": "code",
      "metadata": {
        "colab": {
          "base_uri": "https://localhost:8080/"
        },
        "id": "C2RgKXfbwsG8",
        "outputId": "2c795c61-c1aa-4612-b5fd-03a12bfa346c"
      },
      "source": [
        "# Añadimos una primera capa .Flatten que convierte el arreglo en un arreglo unidimensional,\n",
        "# ademas de dos capas .Dense densamente conectadas que contienen sus nodos correspondientes.\n",
        "model2 = keras.Sequential([\n",
        "    keras.layers.Flatten(input_shape=(28, 28)),\n",
        "    keras.layers.Dense(10, activation='relu'),\n",
        "    keras.layers.Dense(10, activation='softmax')\n",
        "])\n",
        "# Añadimos la función de pérdida y el optimizador\n",
        "model2.compile(optimizer='rmsprop',\n",
        "              loss='sparse_categorical_crossentropy',\n",
        "              metrics=['accuracy'])\n",
        "# Comenzamos con el entrenamiento del modelo\n",
        "model2.fit(train_images, train_labels, epochs=25, batch_size=128)\n",
        "# Vemos que nuestro modelo tiene una función de pérdida alta (0.3671) y una precisión\n",
        "# no muy alta (0.8720). "
      ],
      "execution_count": 32,
      "outputs": [
        {
          "output_type": "stream",
          "name": "stdout",
          "text": [
            "Epoch 1/25\n",
            "469/469 [==============================] - 2s 3ms/step - loss: 0.8152 - accuracy: 0.7477\n",
            "Epoch 2/25\n",
            "469/469 [==============================] - 1s 2ms/step - loss: 0.5220 - accuracy: 0.8247\n",
            "Epoch 3/25\n",
            "469/469 [==============================] - 1s 2ms/step - loss: 0.4743 - accuracy: 0.8385\n",
            "Epoch 4/25\n",
            "469/469 [==============================] - 1s 2ms/step - loss: 0.4511 - accuracy: 0.8444\n",
            "Epoch 5/25\n",
            "469/469 [==============================] - 1s 2ms/step - loss: 0.4351 - accuracy: 0.8490\n",
            "Epoch 6/25\n",
            "469/469 [==============================] - 1s 2ms/step - loss: 0.4245 - accuracy: 0.8539\n",
            "Epoch 7/25\n",
            "469/469 [==============================] - 1s 2ms/step - loss: 0.4167 - accuracy: 0.8551\n",
            "Epoch 8/25\n",
            "469/469 [==============================] - 1s 2ms/step - loss: 0.4098 - accuracy: 0.8555\n",
            "Epoch 9/25\n",
            "469/469 [==============================] - 1s 2ms/step - loss: 0.4048 - accuracy: 0.8581\n",
            "Epoch 10/25\n",
            "469/469 [==============================] - 1s 2ms/step - loss: 0.4012 - accuracy: 0.8596\n",
            "Epoch 11/25\n",
            "469/469 [==============================] - 1s 3ms/step - loss: 0.3970 - accuracy: 0.8618\n",
            "Epoch 12/25\n",
            "469/469 [==============================] - 1s 2ms/step - loss: 0.3931 - accuracy: 0.8638\n",
            "Epoch 13/25\n",
            "469/469 [==============================] - 1s 2ms/step - loss: 0.3908 - accuracy: 0.8640\n",
            "Epoch 14/25\n",
            "469/469 [==============================] - 1s 2ms/step - loss: 0.3875 - accuracy: 0.8660\n",
            "Epoch 15/25\n",
            "469/469 [==============================] - 1s 2ms/step - loss: 0.3848 - accuracy: 0.8668\n",
            "Epoch 16/25\n",
            "469/469 [==============================] - 1s 2ms/step - loss: 0.3821 - accuracy: 0.8663\n",
            "Epoch 17/25\n",
            "469/469 [==============================] - 1s 2ms/step - loss: 0.3799 - accuracy: 0.8681\n",
            "Epoch 18/25\n",
            "469/469 [==============================] - 1s 2ms/step - loss: 0.3776 - accuracy: 0.8682\n",
            "Epoch 19/25\n",
            "469/469 [==============================] - 1s 2ms/step - loss: 0.3760 - accuracy: 0.8682\n",
            "Epoch 20/25\n",
            "469/469 [==============================] - 1s 2ms/step - loss: 0.3745 - accuracy: 0.8692\n",
            "Epoch 21/25\n",
            "469/469 [==============================] - 1s 2ms/step - loss: 0.3728 - accuracy: 0.8703\n",
            "Epoch 22/25\n",
            "469/469 [==============================] - 1s 2ms/step - loss: 0.3707 - accuracy: 0.8703\n",
            "Epoch 23/25\n",
            "469/469 [==============================] - 1s 2ms/step - loss: 0.3694 - accuracy: 0.8709\n",
            "Epoch 24/25\n",
            "469/469 [==============================] - 1s 2ms/step - loss: 0.3675 - accuracy: 0.8717\n",
            "Epoch 25/25\n",
            "469/469 [==============================] - 1s 2ms/step - loss: 0.3671 - accuracy: 0.8720\n"
          ]
        },
        {
          "output_type": "execute_result",
          "data": {
            "text/plain": [
              "<keras.callbacks.History at 0x7fcf31e05c50>"
            ]
          },
          "metadata": {},
          "execution_count": 32
        }
      ]
    },
    {
      "cell_type": "code",
      "metadata": {
        "colab": {
          "base_uri": "https://localhost:8080/"
        },
        "id": "BKlAw4ZXw7_l",
        "outputId": "98157ce4-2424-4486-9859-33fdd63116e7"
      },
      "source": [
        "# Comparamos el rendimiento del modelo con el conjunto de imágenes\n",
        "test_loss, test_acc = model2.evaluate(test_images,  test_labels, verbose=2)"
      ],
      "execution_count": 33,
      "outputs": [
        {
          "output_type": "stream",
          "name": "stdout",
          "text": [
            "313/313 - 0s - loss: 0.4315 - accuracy: 0.8535\n"
          ]
        }
      ]
    },
    {
      "cell_type": "markdown",
      "metadata": {
        "id": "9BlfbOLrxzsN"
      },
      "source": [
        "Como podemos observar, al introducir más épocas la función de pérdida y la precisión son mejores en el modelo de prueba. Además, los valores al testear el modelo son bastante semejantes, apreciándose una leve mejora en la función de pérdida y un leve empeoramiento en la precisión.\n",
        "\n",
        "Esto nos indica que, a pesar de haber introducido más épocas y producirse un sobre entrenamiento, en realidad el modelo ha mejorado levemente."
      ]
    },
    {
      "cell_type": "markdown",
      "metadata": {
        "id": "ghN0nXHImot8"
      },
      "source": [
        "####**Caso 3**"
      ]
    },
    {
      "cell_type": "code",
      "metadata": {
        "id": "X1ZrRl9jkHZX"
      },
      "source": [
        "# Añadimos una primera capa .Flatten que convierte el arreglo en un arreglo unidimensional,\n",
        "# ademas de dos capas .Dense densamente conectadas que contienen sus nodos correspondientes.\n",
        "model3 = keras.Sequential([\n",
        "    keras.layers.Flatten(input_shape=(28, 28)),\n",
        "    keras.layers.Dense(10, activation='sigmoid'),\n",
        "    keras.layers.Dense(10, activation='softmax')\n",
        "])"
      ],
      "execution_count": 34,
      "outputs": []
    },
    {
      "cell_type": "code",
      "metadata": {
        "id": "_BagutjkkRIL"
      },
      "source": [
        "# Añadimos la función de pérdida y el optimizador\n",
        "model3.compile(optimizer='sgd',\n",
        "              loss='sparse_categorical_crossentropy',\n",
        "              metrics=['accuracy'])"
      ],
      "execution_count": 35,
      "outputs": []
    },
    {
      "cell_type": "code",
      "metadata": {
        "id": "q8cMZHNqkUSc",
        "colab": {
          "base_uri": "https://localhost:8080/"
        },
        "outputId": "32726b9c-c4ea-44b4-eb22-2282c08b1260"
      },
      "source": [
        "# Comenzamos con el entrenamiento del modelo\n",
        "model3.fit(train_images, train_labels, epochs=5, batch_size=128)\n",
        "# Vemos una función de pérdida excesivamente elevada (1.3240) y una precisión muy\n",
        "# baja (0.6454), por lo que nuestro modelo no es muy fiable."
      ],
      "execution_count": 36,
      "outputs": [
        {
          "output_type": "stream",
          "name": "stdout",
          "text": [
            "Epoch 1/5\n",
            "469/469 [==============================] - 1s 2ms/step - loss: 2.0788 - accuracy: 0.3192\n",
            "Epoch 2/5\n",
            "469/469 [==============================] - 1s 2ms/step - loss: 1.8044 - accuracy: 0.4787\n",
            "Epoch 3/5\n",
            "469/469 [==============================] - 1s 2ms/step - loss: 1.6056 - accuracy: 0.5980\n",
            "Epoch 4/5\n",
            "469/469 [==============================] - 1s 2ms/step - loss: 1.4489 - accuracy: 0.6334\n",
            "Epoch 5/5\n",
            "469/469 [==============================] - 1s 2ms/step - loss: 1.3240 - accuracy: 0.6454\n"
          ]
        },
        {
          "output_type": "execute_result",
          "data": {
            "text/plain": [
              "<keras.callbacks.History at 0x7fcf3fc10e90>"
            ]
          },
          "metadata": {},
          "execution_count": 36
        }
      ]
    },
    {
      "cell_type": "code",
      "metadata": {
        "id": "PeZqOmYqkZjQ",
        "colab": {
          "base_uri": "https://localhost:8080/"
        },
        "outputId": "d2d37814-2514-4ae2-f5c3-2dcaa3ba73a6"
      },
      "source": [
        "# Comparamos el rendimiento del modelo con el conjunto de imágenes\n",
        "test_loss, test_acc = model3.evaluate(test_images,  test_labels, verbose=2)\n",
        "# Si lo comparamos con el modelo de entrenamiento, la función de pérdida y la precisión\n",
        "# son muy parecidas, por lo que no se produce sobre entrenamiento."
      ],
      "execution_count": 37,
      "outputs": [
        {
          "output_type": "stream",
          "name": "stdout",
          "text": [
            "313/313 - 0s - loss: 1.2764 - accuracy: 0.6388\n"
          ]
        }
      ]
    },
    {
      "cell_type": "code",
      "metadata": {
        "id": "WcYdWyRmkZhE",
        "colab": {
          "base_uri": "https://localhost:8080/"
        },
        "outputId": "8fce91d9-b83e-4bd8-8d34-11c4da0dcd60"
      },
      "source": [
        "# Precisión del test\n",
        "print('\\nTest accuracy:', test_acc)"
      ],
      "execution_count": 38,
      "outputs": [
        {
          "output_type": "stream",
          "name": "stdout",
          "text": [
            "\n",
            "Test accuracy: 0.6388000249862671\n"
          ]
        }
      ]
    },
    {
      "cell_type": "markdown",
      "metadata": {
        "id": "hzUszk0KkgiF"
      },
      "source": [
        "Realizamos la predicción"
      ]
    },
    {
      "cell_type": "code",
      "metadata": {
        "id": "Nn7MVjaQkkkV",
        "colab": {
          "base_uri": "https://localhost:8080/"
        },
        "outputId": "b8c8a63f-9937-47e0-a5ea-121774694ecd"
      },
      "source": [
        "predictions = model3.predict(test_images)\n",
        "predictions[5]"
      ],
      "execution_count": 39,
      "outputs": [
        {
          "output_type": "execute_result",
          "data": {
            "text/plain": [
              "array([0.09696634, 0.39351785, 0.05427866, 0.17636237, 0.05077485,\n",
              "       0.04244516, 0.09310947, 0.03579412, 0.01941137, 0.03733972],\n",
              "      dtype=float32)"
            ]
          },
          "metadata": {},
          "execution_count": 39
        }
      ]
    },
    {
      "cell_type": "markdown",
      "metadata": {
        "id": "-EybperDnq5I"
      },
      "source": [
        "Dibujamos la predicción de la 6º figura"
      ]
    },
    {
      "cell_type": "code",
      "metadata": {
        "id": "OxueiTqoPpCE",
        "colab": {
          "base_uri": "https://localhost:8080/",
          "height": 211
        },
        "outputId": "0142fef8-6d67-4f0c-8fb5-4ed205698066"
      },
      "source": [
        "i = 5\n",
        "plt.figure(figsize=(6,3))\n",
        "plt.subplot(1,2,1)\n",
        "plot_image(i, predictions[i], test_labels, test_images)\n",
        "plt.subplot(1,2,2)\n",
        "plot_value_array(i, predictions[i],  test_labels)\n",
        "plt.show()"
      ],
      "execution_count": 40,
      "outputs": [
        {
          "output_type": "display_data",
          "data": {
            "image/png": "[encoded data removed]",
            "text/plain": [
              "<Figure size 432x216 with 2 Axes>"
            ]
          },
          "metadata": {
            "needs_background": "light"
          }
        }
      ]
    },
    {
      "cell_type": "markdown",
      "metadata": {
        "id": "EaPCjdFwPqxn"
      },
      "source": [
        "Ahora dibujaremos la predicción de 10 imágenes"
      ]
    },
    {
      "cell_type": "code",
      "metadata": {
        "id": "FVdjUj8Lknas",
        "colab": {
          "base_uri": "https://localhost:8080/",
          "height": 729
        },
        "outputId": "262bf5a4-4df3-4645-8024-63ef8398565a"
      },
      "source": [
        "num_rows = 5\n",
        "num_cols = 2\n",
        "num_images = num_rows*num_cols\n",
        "plt.figure(figsize=(2*2*num_cols, 2*num_rows))\n",
        "for i in range(num_images):\n",
        "  plt.subplot(num_rows, 2*num_cols, 2*i+1)\n",
        "  plot_image(i, predictions[i], test_labels, test_images)\n",
        "  plt.subplot(num_rows, 2*num_cols, 2*i+2)\n",
        "  plot_value_array(i, predictions[i], test_labels)\n",
        "plt.tight_layout()\n",
        "plt.show()"
      ],
      "execution_count": 41,
      "outputs": [
        {
          "output_type": "display_data",
          "data": {
            "image/png": "[encoded data removed]",
            "text/plain": [
              "<Figure size 576x720 with 20 Axes>"
            ]
          },
          "metadata": {
            "needs_background": "light"
          }
        }
      ]
    },
    {
      "cell_type": "markdown",
      "metadata": {
        "id": "AVgysjfqzYOr"
      },
      "source": [
        "**MEJORA USANDO EL OPTIMIZADOR ADAM**\n",
        "\n",
        "**OPTIMIZADOR ADAM**\n",
        "\n",
        "El optimizador es la parte del modelo encargado de generar pesos cada vez mejores, juega un papel fundamental en todo el proceso. Aquí es donde entra el optimizador Adam, el cual es una combinación de otros dos optimizadores: AdaGrad y RMSprop.\n",
        "\n",
        " AdaGrad mantiene un  factor específico para todos los pesos del modelo en vez de establecer un valor uniforme para todos los pesos, creando una variación muy interesante en los que conocemos como el factor de entrenamiento.\n",
        "El RMSprop es muy similar al AdaGrad, salvo que el factor de entrenamiento se realiza dividiéndolo por la media del declive exponencial del cuadrado de los gradientes (conocido como glup).\n",
        "\n",
        "Tras saber como funcionan ambos algoritmos, observamos que Adam mantiene un factor de entrenamiento por parámetro y cada factor de entrenamiento se ve afectado por la media del momentum del gradiente, además de calcular el RMSprop.\n",
        "\n",
        "**FUNCIÓN DE PÉRDIDA SPARSE_CATEGORICAL_CROSSENTROPY**\n",
        "\n",
        " Para entender cómo funciona el sparse categorical crossentropy, primero debemos entender que aporta la función de pérdida a un modelo. La función de pérdida nos ofrece una forma de calcular la “pérdida de calidad\" que sufre un aspecto con respecto al objetivo de calidad que nos hayamos marcado en el modelo.\n",
        " \n",
        " A diferencia del categorical crossentropy, que produce un único vector con las posibles relaciones de cada categoría, el sparse categorical crossentropy muestra una nueva categoría en la cual mostrará el producto con un índice menor, o lo que es lo mismo, el producto con más probabilidades de aparecer, ofreciendo la opción de mayor calidad presente entre todas las opciones.\n"
      ]
    },
    {
      "cell_type": "code",
      "metadata": {
        "colab": {
          "base_uri": "https://localhost:8080/"
        },
        "id": "1NimFnm1zgIx",
        "outputId": "594b8f96-ebc9-49c4-b182-caa8d05ece4f"
      },
      "source": [
        "# Añadimos una primera capa .Flatten que convierte el arreglo en un arreglo unidimensional,\n",
        "# ademas de dos capas .Dense densamente conectadas que contienen sus nodos correspondientes.\n",
        "model3 = keras.Sequential([\n",
        "    keras.layers.Flatten(input_shape=(28, 28)),\n",
        "    keras.layers.Dense(10, activation='sigmoid'),\n",
        "    keras.layers.Dense(10, activation='softmax')\n",
        "])\n",
        "# Añadimos la función de pérdida y el optimizador\n",
        "model3.compile(optimizer='adam',\n",
        "              loss='sparse_categorical_crossentropy',\n",
        "              metrics=['accuracy'])\n",
        "# Comenzamos con el entrenamiento del modelo\n",
        "model3.fit(train_images, train_labels, epochs=5, batch_size=128)"
      ],
      "execution_count": 42,
      "outputs": [
        {
          "output_type": "stream",
          "name": "stdout",
          "text": [
            "Epoch 1/5\n",
            "469/469 [==============================] - 1s 2ms/step - loss: 1.4921 - accuracy: 0.5687\n",
            "Epoch 2/5\n",
            "469/469 [==============================] - 1s 2ms/step - loss: 0.9160 - accuracy: 0.7579\n",
            "Epoch 3/5\n",
            "469/469 [==============================] - 1s 2ms/step - loss: 0.7080 - accuracy: 0.7997\n",
            "Epoch 4/5\n",
            "469/469 [==============================] - 1s 2ms/step - loss: 0.6095 - accuracy: 0.8188\n",
            "Epoch 5/5\n",
            "469/469 [==============================] - 1s 2ms/step - loss: 0.5501 - accuracy: 0.8292\n"
          ]
        },
        {
          "output_type": "execute_result",
          "data": {
            "text/plain": [
              "<keras.callbacks.History at 0x7fcf31f59e90>"
            ]
          },
          "metadata": {},
          "execution_count": 42
        }
      ]
    },
    {
      "cell_type": "code",
      "metadata": {
        "colab": {
          "base_uri": "https://localhost:8080/"
        },
        "id": "IFgJB3iIz7jH",
        "outputId": "ed4d7dd7-2b37-42d0-e710-384f47c98a12"
      },
      "source": [
        "# Comparamos el rendimiento del modelo con el conjunto de imágenes\n",
        "test_loss, test_acc = model3.evaluate(test_images,  test_labels, verbose=2)\n",
        "# Si lo comparamos con el modelo de entrenamiento, la función de pérdida y la precisión\n",
        "# son muy parecidas, por lo que no se produce sobre entrenamiento."
      ],
      "execution_count": 43,
      "outputs": [
        {
          "output_type": "stream",
          "name": "stdout",
          "text": [
            "313/313 - 0s - loss: 0.5523 - accuracy: 0.8226\n"
          ]
        }
      ]
    },
    {
      "cell_type": "markdown",
      "metadata": {
        "id": "qt4MTcwf0DFa"
      },
      "source": [
        "Al introducir el optimizador 'adam' vemos que nuestro modelo mejora notáblemente, pasando de una función de pérdida de 1.3240 a una de 0.5501, además de que la precisión mejora notablemente, pasando de 0.6454 a 0.8292."
      ]
    },
    {
      "cell_type": "markdown",
      "metadata": {
        "id": "hlhA7U4Bmqd1"
      },
      "source": [
        "####**Caso 4**"
      ]
    },
    {
      "cell_type": "code",
      "metadata": {
        "id": "eR93zoCwkq9s"
      },
      "source": [
        "# Añadimos una primera capa .Flatten que convierte el arreglo en un arreglo unidimensional,\n",
        "# ademas de dos capas .Dense densamente conectadas que contienen sus nodos correspondientes.\n",
        "model4 = keras.Sequential([\n",
        "    keras.layers.Flatten(input_shape=(28, 28)),\n",
        "    keras.layers.Dense(10, activation='sigmoid'),\n",
        "    keras.layers.Dense(10, activation='softmax')\n",
        "])"
      ],
      "execution_count": 44,
      "outputs": []
    },
    {
      "cell_type": "code",
      "metadata": {
        "id": "w9xl_lcAk1YM"
      },
      "source": [
        "# Añadimos la función de pérdida y el optimizador\n",
        "model4.compile(optimizer='rmsprop',\n",
        "              loss='sparse_categorical_crossentropy',\n",
        "              metrics=['accuracy'])"
      ],
      "execution_count": 45,
      "outputs": []
    },
    {
      "cell_type": "code",
      "metadata": {
        "id": "31-e5d4Ck778",
        "colab": {
          "base_uri": "https://localhost:8080/"
        },
        "outputId": "0e18cf88-3f77-4b58-ef83-6c8ae4bbd923"
      },
      "source": [
        "# Comenzamos con el entrenamiento del modelo\n",
        "model4.fit(train_images, train_labels, epochs=5, batch_size=128)\n",
        "# Vemos que nuestro modelo de entrenamiento tiene una función de pérdida alta (0.5272)\n",
        "# y una precisión adecuada (0.8312)"
      ],
      "execution_count": 46,
      "outputs": [
        {
          "output_type": "stream",
          "name": "stdout",
          "text": [
            "Epoch 1/5\n",
            "469/469 [==============================] - 2s 2ms/step - loss: 1.3695 - accuracy: 0.6549\n",
            "Epoch 2/5\n",
            "469/469 [==============================] - 1s 2ms/step - loss: 0.8638 - accuracy: 0.7674\n",
            "Epoch 3/5\n",
            "469/469 [==============================] - 1s 2ms/step - loss: 0.6756 - accuracy: 0.8030\n",
            "Epoch 4/5\n",
            "469/469 [==============================] - 1s 2ms/step - loss: 0.5816 - accuracy: 0.8219\n",
            "Epoch 5/5\n",
            "469/469 [==============================] - 1s 2ms/step - loss: 0.5272 - accuracy: 0.8312\n"
          ]
        },
        {
          "output_type": "execute_result",
          "data": {
            "text/plain": [
              "<keras.callbacks.History at 0x7fcf32254150>"
            ]
          },
          "metadata": {},
          "execution_count": 46
        }
      ]
    },
    {
      "cell_type": "code",
      "metadata": {
        "id": "99HsNHODlcus",
        "colab": {
          "base_uri": "https://localhost:8080/"
        },
        "outputId": "4f12a2ff-a5a9-440a-b42b-0ab5b098eb39"
      },
      "source": [
        "# Comparamos el rendimiento del modelo con el conjunto de imágenes\n",
        "test_loss, test_acc = model4.evaluate(test_images,  test_labels, verbose=2)\n",
        "# Si lo comparamos con el modelo de entrenamiento, la función de pérdida y la precisión\n",
        "# son muy parecidas, por lo que no se produce sobre entrenamiento."
      ],
      "execution_count": 47,
      "outputs": [
        {
          "output_type": "stream",
          "name": "stdout",
          "text": [
            "313/313 - 0s - loss: 0.5400 - accuracy: 0.8202\n"
          ]
        }
      ]
    },
    {
      "cell_type": "code",
      "metadata": {
        "id": "6SVBt_d6lo81",
        "colab": {
          "base_uri": "https://localhost:8080/"
        },
        "outputId": "b87aab2b-8ae2-49c9-e665-0f410ba13d46"
      },
      "source": [
        "# Precisión del test\n",
        "print('\\nTest accuracy:', test_acc)"
      ],
      "execution_count": 48,
      "outputs": [
        {
          "output_type": "stream",
          "name": "stdout",
          "text": [
            "\n",
            "Test accuracy: 0.8202000260353088\n"
          ]
        }
      ]
    },
    {
      "cell_type": "markdown",
      "metadata": {
        "id": "FirHdBrYnZyf"
      },
      "source": [
        "Realizamos la predicción"
      ]
    },
    {
      "cell_type": "code",
      "metadata": {
        "id": "EbGtSkn7nasd",
        "colab": {
          "base_uri": "https://localhost:8080/"
        },
        "outputId": "c1627f58-8f96-488c-d95a-2392f3ae5473"
      },
      "source": [
        "predictions = model4.predict(test_images)\n",
        "predictions[5]"
      ],
      "execution_count": 49,
      "outputs": [
        {
          "output_type": "execute_result",
          "data": {
            "text/plain": [
              "array([3.5782363e-03, 9.8523766e-01, 1.0027337e-03, 5.5826027e-03,\n",
              "       7.1622111e-04, 1.2046347e-04, 3.1626951e-03, 3.5447687e-05,\n",
              "       5.3595155e-05, 5.1025837e-04], dtype=float32)"
            ]
          },
          "metadata": {},
          "execution_count": 49
        }
      ]
    },
    {
      "cell_type": "markdown",
      "metadata": {
        "id": "MZej9dmVoD1m"
      },
      "source": [
        "Dibujamos la predicción de la 6º figura"
      ]
    },
    {
      "cell_type": "code",
      "metadata": {
        "id": "Qx5_-fP2PzO-",
        "colab": {
          "base_uri": "https://localhost:8080/",
          "height": 211
        },
        "outputId": "8717fcd8-040e-48b6-db86-33182e4c3ef5"
      },
      "source": [
        "i = 5\n",
        "plt.figure(figsize=(6,3))\n",
        "plt.subplot(1,2,1)\n",
        "plot_image(i, predictions[i], test_labels, test_images)\n",
        "plt.subplot(1,2,2)\n",
        "plot_value_array(i, predictions[i],  test_labels)\n",
        "plt.show()"
      ],
      "execution_count": 50,
      "outputs": [
        {
          "output_type": "display_data",
          "data": {
            "image/png": "[encoded data removed]",
            "text/plain": [
              "<Figure size 432x216 with 2 Axes>"
            ]
          },
          "metadata": {
            "needs_background": "light"
          }
        }
      ]
    },
    {
      "cell_type": "markdown",
      "metadata": {
        "id": "ho75lJFMPz5B"
      },
      "source": [
        "Ahora dibujaremos la predicción de 10 imágenes"
      ]
    },
    {
      "cell_type": "code",
      "metadata": {
        "id": "LdksTFm2oOEx",
        "colab": {
          "base_uri": "https://localhost:8080/",
          "height": 729
        },
        "outputId": "9e4572e5-81ee-44c9-83e9-d9da1f6f0e75"
      },
      "source": [
        "num_rows = 5\n",
        "num_cols = 2\n",
        "num_images = num_rows*num_cols\n",
        "plt.figure(figsize=(2*2*num_cols, 2*num_rows))\n",
        "for i in range(num_images):\n",
        "  plt.subplot(num_rows, 2*num_cols, 2*i+1)\n",
        "  plot_image(i, predictions[i], test_labels, test_images)\n",
        "  plt.subplot(num_rows, 2*num_cols, 2*i+2)\n",
        "  plot_value_array(i, predictions[i], test_labels)\n",
        "plt.tight_layout()\n",
        "plt.show()"
      ],
      "execution_count": 51,
      "outputs": [
        {
          "output_type": "display_data",
          "data": {
            "image/png": "[encoded data removed]",
            "text/plain": [
              "<Figure size 576x720 with 20 Axes>"
            ]
          },
          "metadata": {
            "needs_background": "light"
          }
        }
      ]
    },
    {
      "cell_type": "markdown",
      "metadata": {
        "id": "7IV-XBiwmrf_"
      },
      "source": [
        "####**Caso 5**"
      ]
    },
    {
      "cell_type": "code",
      "metadata": {
        "id": "ZSwiGwklktjE"
      },
      "source": [
        "# Añadimos una primera capa .Flatten que convierte el arreglo en un arreglo unidimensional,\n",
        "# ademas de dos capas .Dense densamente conectadas que contienen sus nodos correspondientes.\n",
        "model5 = keras.Sequential([\n",
        "    keras.layers.Flatten(input_shape=(28, 28)),\n",
        "    keras.layers.Dense(512, activation='relu'),\n",
        "    keras.layers.Dense(10, activation='softmax')\n",
        "])"
      ],
      "execution_count": 52,
      "outputs": []
    },
    {
      "cell_type": "code",
      "metadata": {
        "id": "9-zJOOMtk2GN"
      },
      "source": [
        "# Añadimos la función de pérdida y el optimizador\n",
        "model5.compile(optimizer='sgd',\n",
        "              loss='sparse_categorical_crossentropy',\n",
        "              metrics=['accuracy'])"
      ],
      "execution_count": 53,
      "outputs": []
    },
    {
      "cell_type": "code",
      "metadata": {
        "id": "tXDytir_k8ss",
        "colab": {
          "base_uri": "https://localhost:8080/"
        },
        "outputId": "6bd527a4-67cd-45d7-a316-77a2cc6055c7"
      },
      "source": [
        "# Comenzamos con el entrenamiento del modelo\n",
        "model5.fit(train_images, train_labels, epochs=5, batch_size=128)\n",
        "# Si observamos nuestro modelo de entrenamiento vemos que la función de pérdida\n",
        "# es alta (0.5131) y que la precisión es adecuada (0.8293)"
      ],
      "execution_count": 54,
      "outputs": [
        {
          "output_type": "stream",
          "name": "stdout",
          "text": [
            "Epoch 1/5\n",
            "469/469 [==============================] - 4s 8ms/step - loss: 1.0210 - accuracy: 0.6956\n",
            "Epoch 2/5\n",
            "469/469 [==============================] - 4s 8ms/step - loss: 0.6574 - accuracy: 0.7899\n",
            "Epoch 3/5\n",
            "469/469 [==============================] - 4s 8ms/step - loss: 0.5808 - accuracy: 0.8111\n",
            "Epoch 4/5\n",
            "469/469 [==============================] - 4s 8ms/step - loss: 0.5400 - accuracy: 0.8223\n",
            "Epoch 5/5\n",
            "469/469 [==============================] - 4s 8ms/step - loss: 0.5131 - accuracy: 0.8293\n"
          ]
        },
        {
          "output_type": "execute_result",
          "data": {
            "text/plain": [
              "<keras.callbacks.History at 0x7fcf3219a990>"
            ]
          },
          "metadata": {},
          "execution_count": 54
        }
      ]
    },
    {
      "cell_type": "code",
      "metadata": {
        "id": "K04fbDfjld8P",
        "colab": {
          "base_uri": "https://localhost:8080/"
        },
        "outputId": "322e7bd6-1ff3-4585-9fbc-4d884d14fcd3"
      },
      "source": [
        "# Comparamos el rendimiento del modelo con el conjunto de imágenes\n",
        "test_loss, test_acc = model5.evaluate(test_images,  test_labels, verbose=2)\n",
        "# Si lo comparamos con el modelo de entrenamiento, la función de pérdida y la precisión\n",
        "# son muy parecidas, por lo que no se produce sobre entrenamiento."
      ],
      "execution_count": 57,
      "outputs": [
        {
          "output_type": "stream",
          "name": "stdout",
          "text": [
            "313/313 - 1s - loss: 0.5373 - accuracy: 0.8134\n"
          ]
        }
      ]
    },
    {
      "cell_type": "code",
      "metadata": {
        "id": "1CUzfZN3ldzy",
        "colab": {
          "base_uri": "https://localhost:8080/"
        },
        "outputId": "63baa8d7-43f2-4c4e-ef42-daa410126a0d"
      },
      "source": [
        "# Precisión del test\n",
        "print('\\nTest accuracy:', test_acc)"
      ],
      "execution_count": 56,
      "outputs": [
        {
          "output_type": "stream",
          "name": "stdout",
          "text": [
            "\n",
            "Test accuracy: 0.8133999705314636\n"
          ]
        }
      ]
    },
    {
      "cell_type": "markdown",
      "metadata": {
        "id": "CwdkxNjinbeB"
      },
      "source": [
        "Realizamos la predicción"
      ]
    },
    {
      "cell_type": "code",
      "metadata": {
        "id": "s6PrLQPPncP-",
        "colab": {
          "base_uri": "https://localhost:8080/"
        },
        "outputId": "c82fe011-dc7d-4706-aa1a-da9930f49894"
      },
      "source": [
        "predictions = model5.predict(test_images)\n",
        "predictions[5]"
      ],
      "execution_count": 58,
      "outputs": [
        {
          "output_type": "execute_result",
          "data": {
            "text/plain": [
              "array([6.5017943e-03, 9.7604525e-01, 1.4012175e-03, 3.8599987e-03,\n",
              "       1.0838345e-02, 9.4653115e-06, 1.2942402e-03, 6.4415972e-06,\n",
              "       3.5962556e-05, 7.2977118e-06], dtype=float32)"
            ]
          },
          "metadata": {},
          "execution_count": 58
        }
      ]
    },
    {
      "cell_type": "markdown",
      "metadata": {
        "id": "einFLfMIoGOM"
      },
      "source": [
        "Dibujamos la predicción de la 6º figura"
      ]
    },
    {
      "cell_type": "code",
      "metadata": {
        "id": "3dHXc6fQP4ev",
        "colab": {
          "base_uri": "https://localhost:8080/",
          "height": 211
        },
        "outputId": "896f0614-4779-4293-d922-480058792e86"
      },
      "source": [
        "i = 5\n",
        "plt.figure(figsize=(6,3))\n",
        "plt.subplot(1,2,1)\n",
        "plot_image(i, predictions[i], test_labels, test_images)\n",
        "plt.subplot(1,2,2)\n",
        "plot_value_array(i, predictions[i],  test_labels)\n",
        "plt.show()"
      ],
      "execution_count": 59,
      "outputs": [
        {
          "output_type": "display_data",
          "data": {
            "image/png": "[encoded data removed]",
            "text/plain": [
              "<Figure size 432x216 with 2 Axes>"
            ]
          },
          "metadata": {
            "needs_background": "light"
          }
        }
      ]
    },
    {
      "cell_type": "markdown",
      "metadata": {
        "id": "b1FLHEXMP5Qh"
      },
      "source": [
        "Ahora dibujaremos la predicción de 10 imágenes"
      ]
    },
    {
      "cell_type": "code",
      "metadata": {
        "id": "1AQQVSlQoNSw",
        "colab": {
          "base_uri": "https://localhost:8080/",
          "height": 729
        },
        "outputId": "1e9b69c1-fd5d-488c-9bc7-2dfbf793f80f"
      },
      "source": [
        "num_rows = 5\n",
        "num_cols = 2\n",
        "num_images = num_rows*num_cols\n",
        "plt.figure(figsize=(2*2*num_cols, 2*num_rows))\n",
        "for i in range(num_images):\n",
        "  plt.subplot(num_rows, 2*num_cols, 2*i+1)\n",
        "  plot_image(i, predictions[i], test_labels, test_images)\n",
        "  plt.subplot(num_rows, 2*num_cols, 2*i+2)\n",
        "  plot_value_array(i, predictions[i], test_labels)\n",
        "plt.tight_layout()\n",
        "plt.show()"
      ],
      "execution_count": 60,
      "outputs": [
        {
          "output_type": "display_data",
          "data": {
            "image/png": "[encoded data removed]",
            "text/plain": [
              "<Figure size 576x720 with 20 Axes>"
            ]
          },
          "metadata": {
            "needs_background": "light"
          }
        }
      ]
    },
    {
      "cell_type": "markdown",
      "metadata": {
        "id": "0QOnSv7vmsrx"
      },
      "source": [
        "####**Caso 6**"
      ]
    },
    {
      "cell_type": "code",
      "metadata": {
        "id": "QDfYba93kt9U"
      },
      "source": [
        "# Añadimos una primera capa .Flatten que convierte el arreglo en un arreglo unidimensional,\n",
        "# ademas de dos capas .Dense densamente conectadas que contienen sus nodos correspondientes.\n",
        "model6 = keras.Sequential([\n",
        "    keras.layers.Flatten(input_shape=(28, 28)),\n",
        "    keras.layers.Dense(512, activation='relu'),\n",
        "    keras.layers.Dense(10, activation='softmax')\n",
        "])"
      ],
      "execution_count": 61,
      "outputs": []
    },
    {
      "cell_type": "code",
      "metadata": {
        "id": "oYjDLi3Hk21d"
      },
      "source": [
        "# Añadimos la función de pérdida y el optimizador\n",
        "model6.compile(optimizer='rmsprop',\n",
        "              loss='sparse_categorical_crossentropy',\n",
        "              metrics=['accuracy'])"
      ],
      "execution_count": 62,
      "outputs": []
    },
    {
      "cell_type": "code",
      "metadata": {
        "id": "WgSPXpOkk9of",
        "colab": {
          "base_uri": "https://localhost:8080/"
        },
        "outputId": "e947fb6c-7230-453b-ecce-2a3ffadbcd80"
      },
      "source": [
        "# Comenzamos con el entrenamiento del modelo\n",
        "model6.fit(train_images, train_labels, epochs=5, batch_size=128)\n",
        "# Observamos una función de pérdida baja (0.2914) y una precisión alta (0.8927), \n",
        "# siendo hasta ahora el modelo que mejores resultados ofrece durante el entrenamiento."
      ],
      "execution_count": 63,
      "outputs": [
        {
          "output_type": "stream",
          "name": "stdout",
          "text": [
            "Epoch 1/5\n",
            "469/469 [==============================] - 5s 10ms/step - loss: 0.5513 - accuracy: 0.8055\n",
            "Epoch 2/5\n",
            "469/469 [==============================] - 5s 10ms/step - loss: 0.3802 - accuracy: 0.8607\n",
            "Epoch 3/5\n",
            "469/469 [==============================] - 4s 10ms/step - loss: 0.3360 - accuracy: 0.8763\n",
            "Epoch 4/5\n",
            "469/469 [==============================] - 5s 10ms/step - loss: 0.3103 - accuracy: 0.8870\n",
            "Epoch 5/5\n",
            "469/469 [==============================] - 5s 10ms/step - loss: 0.2914 - accuracy: 0.8927\n"
          ]
        },
        {
          "output_type": "execute_result",
          "data": {
            "text/plain": [
              "<keras.callbacks.History at 0x7fcf4015e410>"
            ]
          },
          "metadata": {},
          "execution_count": 63
        }
      ]
    },
    {
      "cell_type": "code",
      "metadata": {
        "id": "U9NeervplfQU",
        "colab": {
          "base_uri": "https://localhost:8080/"
        },
        "outputId": "0ef435bc-ffba-4eb8-9c95-c340ebd209dd"
      },
      "source": [
        "# Comparamos el rendimiento del modelo con el conjunto de imágenes\n",
        "test_loss, test_acc = model6.evaluate(test_images,  test_labels, verbose=2)\n",
        "# Si lo comparamos con el modelo de entrenamiento, la función de pérdida es mayor\n",
        "# y la precisión es más baja, produciéndose lo que se conoce como sobre entrenamiento.\n",
        "# Si observamos los valores de la tabla de entrenamiento, vemos que los que más se\n",
        "# ajustan al modelo de prueba se producen en la época 2."
      ],
      "execution_count": 64,
      "outputs": [
        {
          "output_type": "stream",
          "name": "stdout",
          "text": [
            "313/313 - 1s - loss: 0.3869 - accuracy: 0.8587\n"
          ]
        }
      ]
    },
    {
      "cell_type": "code",
      "metadata": {
        "id": "SUGLzwQClqzL",
        "colab": {
          "base_uri": "https://localhost:8080/"
        },
        "outputId": "f85b7477-f21e-4dfe-a426-2cd125272816"
      },
      "source": [
        "# Precisión del test\n",
        "print('\\nTest accuracy:', test_acc)"
      ],
      "execution_count": 66,
      "outputs": [
        {
          "output_type": "stream",
          "name": "stdout",
          "text": [
            "\n",
            "Test accuracy: 0.8586999773979187\n"
          ]
        }
      ]
    },
    {
      "cell_type": "markdown",
      "metadata": {
        "id": "vqLpD7oBnc5t"
      },
      "source": [
        "Realizamos la predicción"
      ]
    },
    {
      "cell_type": "code",
      "metadata": {
        "id": "JAeC8SAXndsS",
        "colab": {
          "base_uri": "https://localhost:8080/"
        },
        "outputId": "f6959d86-f9d1-46fd-94c7-8a35928e4735"
      },
      "source": [
        "predictions = model6.predict(test_images)\n",
        "predictions[5]"
      ],
      "execution_count": 67,
      "outputs": [
        {
          "output_type": "execute_result",
          "data": {
            "text/plain": [
              "array([3.16408341e-06, 9.99993801e-01, 1.12992161e-07, 1.16689546e-06,\n",
              "       1.41119244e-06, 4.83443754e-12, 3.57105591e-07, 2.05611353e-14,\n",
              "       1.12667674e-10, 1.05401892e-14], dtype=float32)"
            ]
          },
          "metadata": {},
          "execution_count": 67
        }
      ]
    },
    {
      "cell_type": "markdown",
      "metadata": {
        "id": "sFBenAoJoH9H"
      },
      "source": [
        "Dibujamos la predicción de la 6º figura"
      ]
    },
    {
      "cell_type": "code",
      "metadata": {
        "id": "YUCovKzzQPNO",
        "colab": {
          "base_uri": "https://localhost:8080/",
          "height": 211
        },
        "outputId": "3931f0ab-819c-4d48-814c-cc667c62be5c"
      },
      "source": [
        "i = 5\n",
        "plt.figure(figsize=(6,3))\n",
        "plt.subplot(1,2,1)\n",
        "plot_image(i, predictions[i], test_labels, test_images)\n",
        "plt.subplot(1,2,2)\n",
        "plot_value_array(i, predictions[i],  test_labels)\n",
        "plt.show()"
      ],
      "execution_count": 68,
      "outputs": [
        {
          "output_type": "display_data",
          "data": {
            "image/png": "[encoded data removed]",
            "text/plain": [
              "<Figure size 432x216 with 2 Axes>"
            ]
          },
          "metadata": {
            "needs_background": "light"
          }
        }
      ]
    },
    {
      "cell_type": "markdown",
      "metadata": {
        "id": "ZigCFfAVQPuZ"
      },
      "source": [
        "Ahora dibujaremos la predicción de 10 imágenes"
      ]
    },
    {
      "cell_type": "code",
      "metadata": {
        "id": "EmPsDVVNoMvh",
        "colab": {
          "base_uri": "https://localhost:8080/",
          "height": 729
        },
        "outputId": "80538575-a77b-4ab0-806a-dcf97b5f9dc6"
      },
      "source": [
        "num_rows = 5\n",
        "num_cols = 2\n",
        "num_images = num_rows*num_cols\n",
        "plt.figure(figsize=(2*2*num_cols, 2*num_rows))\n",
        "for i in range(num_images):\n",
        "  plt.subplot(num_rows, 2*num_cols, 2*i+1)\n",
        "  plot_image(i, predictions[i], test_labels, test_images)\n",
        "  plt.subplot(num_rows, 2*num_cols, 2*i+2)\n",
        "  plot_value_array(i, predictions[i], test_labels)\n",
        "plt.tight_layout()\n",
        "plt.show()"
      ],
      "execution_count": 69,
      "outputs": [
        {
          "output_type": "display_data",
          "data": {
            "image/png": "[encoded data removed]",
            "text/plain": [
              "<Figure size 576x720 with 20 Axes>"
            ]
          },
          "metadata": {
            "needs_background": "light"
          }
        }
      ]
    },
    {
      "cell_type": "markdown",
      "metadata": {
        "id": "L7pXMNH0mt0T"
      },
      "source": [
        "####**Caso 7**"
      ]
    },
    {
      "cell_type": "code",
      "metadata": {
        "id": "mGqxX0gdkuX9"
      },
      "source": [
        "# Añadimos una primera capa .Flatten que convierte el arreglo en un arreglo unidimensional,\n",
        "# ademas de dos capas .Dense densamente conectadas que contienen sus nodos correspondientes.\n",
        "model7 = keras.Sequential([\n",
        "    keras.layers.Flatten(input_shape=(28, 28)),\n",
        "    keras.layers.Dense(512, activation='sigmoid'),\n",
        "    keras.layers.Dense(10, activation='softmax')\n",
        "])"
      ],
      "execution_count": 70,
      "outputs": []
    },
    {
      "cell_type": "code",
      "metadata": {
        "id": "JdCWqrXdk3mC"
      },
      "source": [
        "# Añadimos la función de pérdida y el optimizador\n",
        "model7.compile(optimizer='sgd',\n",
        "              loss='sparse_categorical_crossentropy',\n",
        "              metrics=['accuracy'])"
      ],
      "execution_count": 71,
      "outputs": []
    },
    {
      "cell_type": "code",
      "metadata": {
        "id": "DIJcoSf6k-so",
        "colab": {
          "base_uri": "https://localhost:8080/"
        },
        "outputId": "d292eb49-cdc8-48aa-ed59-a3ec21654688"
      },
      "source": [
        "# Comenzamos con el entrenamiento del modelo\n",
        "model7.fit(train_images, train_labels, epochs=5, batch_size=128)\n",
        "# Vemos una función de pérdida alta (0.7612) y una precisión baja (0.7534)"
      ],
      "execution_count": 72,
      "outputs": [
        {
          "output_type": "stream",
          "name": "stdout",
          "text": [
            "Epoch 1/5\n",
            "469/469 [==============================] - 4s 7ms/step - loss: 1.6960 - accuracy: 0.5954\n",
            "Epoch 2/5\n",
            "469/469 [==============================] - 3s 7ms/step - loss: 1.1288 - accuracy: 0.7123\n",
            "Epoch 3/5\n",
            "469/469 [==============================] - 3s 7ms/step - loss: 0.9249 - accuracy: 0.7319\n",
            "Epoch 4/5\n",
            "469/469 [==============================] - 3s 7ms/step - loss: 0.8230 - accuracy: 0.7436\n",
            "Epoch 5/5\n",
            "469/469 [==============================] - 3s 7ms/step - loss: 0.7612 - accuracy: 0.7534\n"
          ]
        },
        {
          "output_type": "execute_result",
          "data": {
            "text/plain": [
              "<keras.callbacks.History at 0x7fcf2b731690>"
            ]
          },
          "metadata": {},
          "execution_count": 72
        }
      ]
    },
    {
      "cell_type": "code",
      "metadata": {
        "id": "c5HZEssJlgAn",
        "colab": {
          "base_uri": "https://localhost:8080/"
        },
        "outputId": "2fac2254-3d17-48c5-922f-6c0d3204a3ef"
      },
      "source": [
        "# Comparamos el rendimiento del modelo con el conjunto de imágenes\n",
        "test_loss, test_acc = model7.evaluate(test_images,  test_labels, verbose=2)\n",
        "# Si lo comparamos con el modelo de entrenamiento, la función de pérdida y la precisión\n",
        "# son muy parecidas, por lo que no se produce sobre entrenamiento."
      ],
      "execution_count": 74,
      "outputs": [
        {
          "output_type": "stream",
          "name": "stdout",
          "text": [
            "313/313 - 1s - loss: 0.7513 - accuracy: 0.7496\n"
          ]
        }
      ]
    },
    {
      "cell_type": "code",
      "metadata": {
        "id": "ojukAxNYlrny",
        "colab": {
          "base_uri": "https://localhost:8080/"
        },
        "outputId": "e142133a-4de0-477e-b6fd-5b6b45e4b0bc"
      },
      "source": [
        "# Precisión del test\n",
        "print('\\nTest accuracy:', test_acc)"
      ],
      "execution_count": 75,
      "outputs": [
        {
          "output_type": "stream",
          "name": "stdout",
          "text": [
            "\n",
            "Test accuracy: 0.7495999932289124\n"
          ]
        }
      ]
    },
    {
      "cell_type": "markdown",
      "metadata": {
        "id": "XgY13Admnehl"
      },
      "source": [
        "Realizamos la predicción"
      ]
    },
    {
      "cell_type": "code",
      "metadata": {
        "id": "MBlXDusrnfK9",
        "colab": {
          "base_uri": "https://localhost:8080/"
        },
        "outputId": "6e963b9f-0810-46a9-c038-eca23ca948a3"
      },
      "source": [
        "predictions = model7.predict(test_images)\n",
        "predictions[5]"
      ],
      "execution_count": 76,
      "outputs": [
        {
          "output_type": "execute_result",
          "data": {
            "text/plain": [
              "array([3.2749739e-02, 8.4185410e-01, 1.1114381e-02, 6.3254155e-02,\n",
              "       2.2907056e-02, 6.1102578e-04, 2.6332665e-02, 2.9130137e-04,\n",
              "       7.4776000e-04, 1.3781429e-04], dtype=float32)"
            ]
          },
          "metadata": {},
          "execution_count": 76
        }
      ]
    },
    {
      "cell_type": "markdown",
      "metadata": {
        "id": "dN-KATdXoJCm"
      },
      "source": [
        "Dibujamos la predicción de la 6º figura"
      ]
    },
    {
      "cell_type": "code",
      "metadata": {
        "colab": {
          "base_uri": "https://localhost:8080/",
          "height": 211
        },
        "id": "jvkkCdDLQVvE",
        "outputId": "8beb2e45-6da6-49a3-9b1c-b6f274c63b27"
      },
      "source": [
        "i = 5\n",
        "plt.figure(figsize=(6,3))\n",
        "plt.subplot(1,2,1)\n",
        "plot_image(i, predictions[i], test_labels, test_images)\n",
        "plt.subplot(1,2,2)\n",
        "plot_value_array(i, predictions[i],  test_labels)\n",
        "plt.show()"
      ],
      "execution_count": 77,
      "outputs": [
        {
          "output_type": "display_data",
          "data": {
            "image/png": "[encoded data removed]",
            "text/plain": [
              "<Figure size 432x216 with 2 Axes>"
            ]
          },
          "metadata": {
            "needs_background": "light"
          }
        }
      ]
    },
    {
      "cell_type": "markdown",
      "metadata": {
        "id": "GfhPDWZwQWKA"
      },
      "source": [
        "Ahora dibujaremos la predicción de 10 imágenes"
      ]
    },
    {
      "cell_type": "code",
      "metadata": {
        "id": "KfM694v6oLr9",
        "colab": {
          "base_uri": "https://localhost:8080/",
          "height": 729
        },
        "outputId": "68c09ec0-5362-44cc-b755-354fc57e2231"
      },
      "source": [
        "num_rows = 5\n",
        "num_cols = 2\n",
        "num_images = num_rows*num_cols\n",
        "plt.figure(figsize=(2*2*num_cols, 2*num_rows))\n",
        "for i in range(num_images):\n",
        "  plt.subplot(num_rows, 2*num_cols, 2*i+1)\n",
        "  plot_image(i, predictions[i], test_labels, test_images)\n",
        "  plt.subplot(num_rows, 2*num_cols, 2*i+2)\n",
        "  plot_value_array(i, predictions[i], test_labels)\n",
        "plt.tight_layout()\n",
        "plt.show()"
      ],
      "execution_count": 78,
      "outputs": [
        {
          "output_type": "display_data",
          "data": {
            "image/png": "[encoded data removed]",
            "text/plain": [
              "<Figure size 576x720 with 20 Axes>"
            ]
          },
          "metadata": {
            "needs_background": "light"
          }
        }
      ]
    },
    {
      "cell_type": "markdown",
      "metadata": {
        "id": "G0k755VJ9BMg"
      },
      "source": [
        "**Análisis con 25 épocas de entrenamiento**\n"
      ]
    },
    {
      "cell_type": "code",
      "metadata": {
        "colab": {
          "base_uri": "https://localhost:8080/"
        },
        "id": "R9ukhyLt9XNx",
        "outputId": "86cf6c4f-c5c8-45bd-afe1-f8ee0b202b75"
      },
      "source": [
        "# Añadimos una primera capa .Flatten que convierte el arreglo en un arreglo unidimensional,\n",
        "# ademas de dos capas .Dense densamente conectadas que contienen sus nodos correspondientes.\n",
        "model7 = keras.Sequential([\n",
        "    keras.layers.Flatten(input_shape=(28, 28)),\n",
        "    keras.layers.Dense(512, activation='sigmoid'),\n",
        "    keras.layers.Dense(10, activation='softmax')\n",
        "])\n",
        "# Añadimos la función de pérdida y el optimizador\n",
        "model7.compile(optimizer='sgd',\n",
        "              loss='sparse_categorical_crossentropy',\n",
        "              metrics=['accuracy'])\n",
        "# Comenzamos con el entrenamiento del modelo\n",
        "model7.fit(train_images, train_labels, epochs=25, batch_size=128)"
      ],
      "execution_count": 79,
      "outputs": [
        {
          "output_type": "stream",
          "name": "stdout",
          "text": [
            "Epoch 1/25\n",
            "469/469 [==============================] - 4s 8ms/step - loss: 1.7113 - accuracy: 0.5868\n",
            "Epoch 2/25\n",
            "469/469 [==============================] - 4s 8ms/step - loss: 1.1269 - accuracy: 0.7111\n",
            "Epoch 3/25\n",
            "469/469 [==============================] - 3s 7ms/step - loss: 0.9202 - accuracy: 0.7318\n",
            "Epoch 4/25\n",
            "469/469 [==============================] - 4s 7ms/step - loss: 0.8185 - accuracy: 0.7434\n",
            "Epoch 5/25\n",
            "469/469 [==============================] - 4s 8ms/step - loss: 0.7580 - accuracy: 0.7533\n",
            "Epoch 6/25\n",
            "469/469 [==============================] - 4s 8ms/step - loss: 0.7165 - accuracy: 0.7615\n",
            "Epoch 7/25\n",
            "469/469 [==============================] - 3s 7ms/step - loss: 0.6860 - accuracy: 0.7680\n",
            "Epoch 8/25\n",
            "469/469 [==============================] - 3s 7ms/step - loss: 0.6616 - accuracy: 0.7744\n",
            "Epoch 9/25\n",
            "469/469 [==============================] - 4s 7ms/step - loss: 0.6421 - accuracy: 0.7798\n",
            "Epoch 10/25\n",
            "469/469 [==============================] - 4s 8ms/step - loss: 0.6255 - accuracy: 0.7846\n",
            "Epoch 11/25\n",
            "469/469 [==============================] - 4s 7ms/step - loss: 0.6110 - accuracy: 0.7894\n",
            "Epoch 12/25\n",
            "469/469 [==============================] - 3s 7ms/step - loss: 0.5984 - accuracy: 0.7937\n",
            "Epoch 13/25\n",
            "469/469 [==============================] - 4s 8ms/step - loss: 0.5871 - accuracy: 0.7976\n",
            "Epoch 14/25\n",
            "469/469 [==============================] - 4s 8ms/step - loss: 0.5773 - accuracy: 0.8007\n",
            "Epoch 15/25\n",
            "469/469 [==============================] - 3s 7ms/step - loss: 0.5683 - accuracy: 0.8039\n",
            "Epoch 16/25\n",
            "469/469 [==============================] - 4s 8ms/step - loss: 0.5599 - accuracy: 0.8063\n",
            "Epoch 17/25\n",
            "469/469 [==============================] - 4s 7ms/step - loss: 0.5528 - accuracy: 0.8095\n",
            "Epoch 18/25\n",
            "469/469 [==============================] - 4s 8ms/step - loss: 0.5460 - accuracy: 0.8116\n",
            "Epoch 19/25\n",
            "469/469 [==============================] - 4s 7ms/step - loss: 0.5397 - accuracy: 0.8130\n",
            "Epoch 20/25\n",
            "469/469 [==============================] - 3s 7ms/step - loss: 0.5341 - accuracy: 0.8148\n",
            "Epoch 21/25\n",
            "469/469 [==============================] - 4s 7ms/step - loss: 0.5288 - accuracy: 0.8173\n",
            "Epoch 22/25\n",
            "469/469 [==============================] - 4s 8ms/step - loss: 0.5238 - accuracy: 0.8194\n",
            "Epoch 23/25\n",
            "469/469 [==============================] - 4s 7ms/step - loss: 0.5194 - accuracy: 0.8198\n",
            "Epoch 24/25\n",
            "469/469 [==============================] - 4s 8ms/step - loss: 0.5150 - accuracy: 0.8216\n",
            "Epoch 25/25\n",
            "469/469 [==============================] - 4s 8ms/step - loss: 0.5109 - accuracy: 0.8232\n"
          ]
        },
        {
          "output_type": "execute_result",
          "data": {
            "text/plain": [
              "<keras.callbacks.History at 0x7fcf31ee9dd0>"
            ]
          },
          "metadata": {},
          "execution_count": 79
        }
      ]
    },
    {
      "cell_type": "code",
      "metadata": {
        "colab": {
          "base_uri": "https://localhost:8080/"
        },
        "id": "wlBcSzpo9vz_",
        "outputId": "3481b6de-e096-48f8-bf6f-1855f5b6d6b1"
      },
      "source": [
        "# Comparamos el rendimiento del modelo con el conjunto de imágenes\n",
        "test_loss, test_acc = model7.evaluate(test_images,  test_labels, verbose=2)"
      ],
      "execution_count": 80,
      "outputs": [
        {
          "output_type": "stream",
          "name": "stdout",
          "text": [
            "313/313 - 1s - loss: 0.5368 - accuracy: 0.8071\n"
          ]
        }
      ]
    },
    {
      "cell_type": "markdown",
      "metadata": {
        "id": "CLZKRDSs-WfJ"
      },
      "source": [
        "Como podemos observar, el modelo con 25 épocas supone una mejoría notable a la hora de predecir una imagen en comparación con el mismo modelo pero con 5 épocas, convirtiéndose en un modelo bastante fiable.\n",
        "\n",
        "No obstante, en este caso si que se produce un sobre entrenamiento, pero bastante leve."
      ]
    },
    {
      "cell_type": "markdown",
      "metadata": {
        "id": "GSuOvW5vmvIH"
      },
      "source": [
        "####**Caso 8**"
      ]
    },
    {
      "cell_type": "code",
      "metadata": {
        "id": "bj8k5kE4kuzs"
      },
      "source": [
        "# Añadimos una primera capa .Flatten que convierte el arreglo en un arreglo unidimensional,\n",
        "# ademas de dos capas .Dense densamente conectadas que contienen sus nodos correspondientes.\n",
        "model8 = keras.Sequential([\n",
        "    keras.layers.Flatten(input_shape=(28, 28)),\n",
        "    keras.layers.Dense(512, activation='sigmoid'),\n",
        "    keras.layers.Dense(10, activation='softmax')\n",
        "])"
      ],
      "execution_count": 81,
      "outputs": []
    },
    {
      "cell_type": "code",
      "metadata": {
        "id": "RyIm9rwYk4cs"
      },
      "source": [
        "# Añadimos la función de pérdida y el optimizador\n",
        "model8.compile(optimizer='rmsprop',\n",
        "              loss='sparse_categorical_crossentropy',\n",
        "              metrics=['accuracy'])"
      ],
      "execution_count": 82,
      "outputs": []
    },
    {
      "cell_type": "code",
      "metadata": {
        "id": "gpMFJWPIk_lS",
        "colab": {
          "base_uri": "https://localhost:8080/"
        },
        "outputId": "1dc36e1e-a671-4a22-fe7d-09726419c917"
      },
      "source": [
        "# Comenzamos con el entrenamiento del modelo\n",
        "model8.fit(train_images, train_labels, epochs=5, batch_size=128)\n",
        "# Observamos una función de pérdida baja (0.3401) y una precisión alta (0.8761)"
      ],
      "execution_count": 83,
      "outputs": [
        {
          "output_type": "stream",
          "name": "stdout",
          "text": [
            "Epoch 1/5\n",
            "469/469 [==============================] - 6s 12ms/step - loss: 0.5962 - accuracy: 0.7894\n",
            "Epoch 2/5\n",
            "469/469 [==============================] - 5s 11ms/step - loss: 0.4297 - accuracy: 0.8450\n",
            "Epoch 3/5\n",
            "469/469 [==============================] - 5s 11ms/step - loss: 0.3869 - accuracy: 0.8594\n",
            "Epoch 4/5\n",
            "469/469 [==============================] - 5s 11ms/step - loss: 0.3606 - accuracy: 0.8683\n",
            "Epoch 5/5\n",
            "469/469 [==============================] - 5s 11ms/step - loss: 0.3401 - accuracy: 0.8761\n"
          ]
        },
        {
          "output_type": "execute_result",
          "data": {
            "text/plain": [
              "<keras.callbacks.History at 0x7fcf2b77cbd0>"
            ]
          },
          "metadata": {},
          "execution_count": 83
        }
      ]
    },
    {
      "cell_type": "code",
      "metadata": {
        "id": "zLMOltTalg2P",
        "colab": {
          "base_uri": "https://localhost:8080/"
        },
        "outputId": "700f8564-7647-4eb6-cf8b-71a169c9d04c"
      },
      "source": [
        "# Comparamos el rendimiento del modelo con el conjunto de imágenes\n",
        "test_loss, test_acc = model8.evaluate(test_images,  test_labels, verbose=2)\n",
        "# Si lo comparamos con el modelo de entrenamiento, la función de pérdida y la precisión\n",
        "# son muy parecidas, por lo que no se produce sobre entrenamiento."
      ],
      "execution_count": 84,
      "outputs": [
        {
          "output_type": "stream",
          "name": "stdout",
          "text": [
            "313/313 - 1s - loss: 0.3801 - accuracy: 0.8648\n"
          ]
        }
      ]
    },
    {
      "cell_type": "code",
      "metadata": {
        "id": "PrFsITdvlsRD",
        "colab": {
          "base_uri": "https://localhost:8080/"
        },
        "outputId": "d3b7ee3a-c3f7-4e79-83ab-ae00379d83c1"
      },
      "source": [
        "# Precisión del test\n",
        "print('\\nTest accuracy:', test_acc)"
      ],
      "execution_count": 85,
      "outputs": [
        {
          "output_type": "stream",
          "name": "stdout",
          "text": [
            "\n",
            "Test accuracy: 0.864799976348877\n"
          ]
        }
      ]
    },
    {
      "cell_type": "markdown",
      "metadata": {
        "id": "HgnFYC-XngJG"
      },
      "source": [
        "Realizamos la predicción"
      ]
    },
    {
      "cell_type": "code",
      "metadata": {
        "id": "n0cuNqUeng7j",
        "colab": {
          "base_uri": "https://localhost:8080/"
        },
        "outputId": "c4514b0e-3404-48ec-bdf2-005e479ce4a4"
      },
      "source": [
        "predictions = model8.predict(test_images)\n",
        "predictions[5]"
      ],
      "execution_count": 86,
      "outputs": [
        {
          "output_type": "execute_result",
          "data": {
            "text/plain": [
              "array([4.6511735e-03, 9.9437135e-01, 2.4373125e-04, 2.1631790e-04,\n",
              "       3.7255316e-04, 1.0568241e-08, 1.3534272e-04, 8.0363299e-07,\n",
              "       8.6802220e-06, 1.0551665e-08], dtype=float32)"
            ]
          },
          "metadata": {},
          "execution_count": 86
        }
      ]
    },
    {
      "cell_type": "markdown",
      "metadata": {
        "id": "uGtNhZa7oJ_3"
      },
      "source": [
        "Dibujamos la predicción de la 6º figura"
      ]
    },
    {
      "cell_type": "code",
      "metadata": {
        "id": "8o0cT74oQeTP",
        "colab": {
          "base_uri": "https://localhost:8080/",
          "height": 211
        },
        "outputId": "3ac26430-7a77-4d47-d0ac-394b81153420"
      },
      "source": [
        "i = 5\n",
        "plt.figure(figsize=(6,3))\n",
        "plt.subplot(1,2,1)\n",
        "plot_image(i, predictions[i], test_labels, test_images)\n",
        "plt.subplot(1,2,2)\n",
        "plot_value_array(i, predictions[i],  test_labels)\n",
        "plt.show()"
      ],
      "execution_count": 87,
      "outputs": [
        {
          "output_type": "display_data",
          "data": {
            "image/png": "[encoded data removed]",
            "text/plain": [
              "<Figure size 432x216 with 2 Axes>"
            ]
          },
          "metadata": {
            "needs_background": "light"
          }
        }
      ]
    },
    {
      "cell_type": "markdown",
      "metadata": {
        "id": "zBuxSfoAQetj"
      },
      "source": [
        "Ahora dibujaremos la predicción de 10 imágenes"
      ]
    },
    {
      "cell_type": "code",
      "metadata": {
        "id": "wdxPW4yJoKpe",
        "colab": {
          "base_uri": "https://localhost:8080/",
          "height": 729
        },
        "outputId": "c5e10b18-177b-4802-dd4c-e88b61525f1e"
      },
      "source": [
        "num_rows = 5\n",
        "num_cols = 2\n",
        "num_images = num_rows*num_cols\n",
        "plt.figure(figsize=(2*2*num_cols, 2*num_rows))\n",
        "for i in range(num_images):\n",
        "  plt.subplot(num_rows, 2*num_cols, 2*i+1)\n",
        "  plot_image(i, predictions[i], test_labels, test_images)\n",
        "  plt.subplot(num_rows, 2*num_cols, 2*i+2)\n",
        "  plot_value_array(i, predictions[i], test_labels)\n",
        "plt.tight_layout()\n",
        "plt.show()\n",
        "\n"
      ],
      "execution_count": 88,
      "outputs": [
        {
          "output_type": "display_data",
          "data": {
            "image/png": "[encoded data removed]",
            "text/plain": [
              "<Figure size 576x720 with 20 Axes>"
            ]
          },
          "metadata": {
            "needs_background": "light"
          }
        }
      ]
    },
    {
      "cell_type": "markdown",
      "metadata": {
        "id": "p6CZukydBo0H"
      },
      "source": [
        "# **Conclusión**\n",
        "En conclusión, hemos aprendido el uso y funcionamiento de una red de neuronas, además de la utilidad que tienen estos modelos hoy en día. \n",
        "\n",
        "Hemos podido observar una mejoría a la hora de introducir más épocas de entrenamiento, cosa que a priori pensábamos que no iba a funcionar debido a un posible sobre entrenamiento. \n",
        "\n",
        "Además, hemos visto reflejada una mejoría en los modelos a la hora de introducir 512 neuronas en la primera capa de Dense, esto es, en los últimos 4 modelos.\n",
        "\n",
        "Por último, hemos recopilado los resultados de los datos de entrenamiento de cada uno de los 8 modelos. \n",
        "\n",
        "Casos -------- Función de pérdida -------- Precisión\n",
        "\n",
        "1 ------------------------- 0.5981 ----------------------- 0.7963\n",
        "\n",
        "2 ------------------------- 0.4235 ----------------------- 0.8531\n",
        "\n",
        "3 ------------------------- 1.3240 ----------------------- 0.6454\n",
        "\n",
        "4 ------------------------- 0.5272 ----------------------- 0.8312\n",
        "\n",
        "5 ------------------------- 0.5131 ----------------------- 0.8293\n",
        "\n",
        "6 ------------------------- 0.2914 ----------------------- 0.8927\n",
        "\n",
        "7 ------------------------- 0.7612 ----------------------- 0.7534\n",
        "\n",
        "8 ------------------------- 0.3401 ----------------------- 0.8761\n",
        "\n",
        "Como podemos observar, el mejor modelo de entrenamiento es el modelo 6, lo que supone que la mejor combinación para predecir las imágenes de los artículos de Zalando es con `512` neuronas en la capa 1, la función de activación `relu` y el optimizador `rmsprop`\n",
        "\n"
      ]
    },
    {
      "cell_type": "markdown",
      "metadata": {
        "id": "LPM-Nluk2pJs"
      },
      "source": [
        "# **Bibliografía**\n",
        "[1] \"Clasificacion Basica: Predecir una imagen de moda\". En: tensorflow.org. Disponible en: \n",
        "\n",
        "https://www.tensorflow.org/tutorials/keras/classification?hl=es-419\n",
        "\n",
        "[2] “Clasificación básica: Predecir una imagen de moda”. Disponible en: \n",
        "\n",
        "https://www.tensorflow.org/tutorials/keras/classification?hl=es-419\n",
        "\n",
        "[3] “Optimizadores en redes neuronales profundas: un enfoque práctico”. Velasco, Luis. 26 de abril de 2020. Disponible en: \n",
        "\n",
        "https://velascoluis.medium.com/optimizadores-en-redes-neuronales-profundas-un-enfoque-practico-819b39a3eb5\n",
        "\n",
        "[4] “Función de pérdida (Taguchi)- Cómo evaluar la pérdida de calidad en un producto\".  Disponible en: \n",
        "\n",
        "https://www.pdcahome.com/funcion-de-perdida-taguchi/\n",
        "\n",
        "[5] “What is the difference between sparse_categorical_crossentropy and categorical_crossentropy?” Disponible en: \n",
        "\n",
        "https://stackoverflow.com/questions/58565394/what-is-the-difference-between-sparse-categorical-crossentropy-and-categorical-c\n",
        "\n"
      ]
    }
  ]
}